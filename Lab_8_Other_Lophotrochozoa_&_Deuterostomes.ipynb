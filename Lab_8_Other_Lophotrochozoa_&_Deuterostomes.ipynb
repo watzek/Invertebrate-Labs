{
 "cells": [
  {
   "cell_type": "markdown",
   "metadata": {},
   "source": [
    "# Lab 8\n",
    "## Other Lophotrochozoa & Deuterostomes: -Echinoderms,  Chordates:\n",
    "\n",
    "---\n",
    "\n",
    "**The organisms you will see today fall within the following taxonomic groups:**\n",
    "- Phylum **Brachiopoda**\n",
    "    - *Lingula*\n",
    "- Phylum **Ectoprocta** (Bryozoa)\n",
    "    - *Pectinella*\n",
    "    - *Cristatella*\n",
    "\t- *Bugula*\n",
    "- Phylum **Echinodermata**\n",
    "    - Class **Stellaroidae**\n",
    "        - Subclass **Asteroidea** - sea stars   *Pisaster*\n",
    "        - Subclass **Ophiuroidea** - brittle stars and basket stars\n",
    "\t- Class **Echinoidea** - sea urchins, sea buiscuits, and sand dollars\n",
    "\t- Class **Holothuroidea** - sea cucumbers \n",
    "\t- Class **Crinoidea** - sea lilies\n",
    "- Miscellaneous **Deuterostomes**\n",
    "\t- Phylum **Hemichordata** - Acorn worms\n",
    "        - *Dolichoglossus*\n",
    "\t\t- *Balanoglossus*\n",
    "\t- Phylum **Chordata**\n",
    "\t\t- Subphylum **Cephalochordata** - Lancelets, “amphioxus”\n",
    "\t\t\t- *Amphioxus*\n",
    "\t\t\t- *Ammonocetes*\n",
    "\t\t- Subphylum **Urochordata** - Tunicates, sea squirts\n",
    "\t\t\t- Class **Ascidiacae** (ascidians)\n",
    "                - *Corella*\n",
    "\t\t\t\t- *Molgula*\n",
    "\t\t\t\t- *Ciona*\n",
    "\t\t- Subphylum **Vertebrata** - Vertebrates\n",
    "        \n",
    "### Objectives\n",
    "**After lab you should:**\n",
    "1. Be able to identify brachiopoda\n",
    "2. Be able to identify ectoprocta\n",
    "3. Be able to identify echinoderms to the level of the above taxa that are in bold.\n",
    "4. Know the internal and extermal anatomy of a seastar.\n",
    "5. Know the internal and external anatomy of a sea urchin\n",
    "6. Know the external anatomy of a sand dollar\n",
    "7. Know the external anatomy of a sea cucumber\n",
    "8. Be able to recognize echinoderm larvae, an Aristotle’s lantern, and pedicellaria\n",
    "9. Know the anatomy of a Hemichordate\n",
    "10. Know the internal and external anatomy of the lancelet, Branchiostoma.\n",
    "11. Know the anatomy of a Urochordate\n",
    "12. Be able to recognize a tadpole larvae of an urochordate, especially the characteristics that they share with other chordates (you)\n",
    "\n",
    "---"
   ]
  },
  {
   "cell_type": "markdown",
   "metadata": {},
   "source": [
    "## Lophophorate Phyla\n",
    "*Chapter 19*\n",
    "\n",
    "**Lophophorates are a set of phyla united by having a lophophore,  not necessarily a monophyletic group – scattered within the Lophotrochozoa**\n",
    "\n",
    "Diversity: over 48,000 extant species, very abundant in the fossil record<br>\n",
    "Exclusively marine except for a few freshwater extoprocts<br>\n",
    "\t\n",
    "*Important Characteristics:*<br>\n",
    "**Have protocoel, mesocoel, metacoel; u-shaped gut**; nearly all secrete an **outer casing**; tentacular outgrowth containing coelomic extensions (**lophophore**) surrounding mouth.\n",
    "\n",
    "![lophophorate](https://datasci.watzek.cloud/shared/bio212/images/lab8/[1]lophaphorate.png)"
   ]
  },
  {
   "cell_type": "markdown",
   "metadata": {},
   "source": [
    "## Phylum Brachiopoda\n",
    "Diversity: 335 extant species; >12,000 described fossil species\n",
    "\n",
    "*Important Characteristics:*<br>\n",
    "**Body enclosed between two shells (one dorsal, one ventral)**; usually attached to substrate by stalk or **pedicle, lophophore circular to variably coiled**\n",
    "\n",
    "![brachiopoda-1](https://datasci.watzek.cloud/shared/bio212/images/lab8/[2]brachiopoda.png)\n",
    "![brachiopoda-2](https://datasci.watzek.cloud/shared/bio212/images/lab8/[3]brachiopoda.jpeg)\n",
    "\n",
    "Examine the brachiopod shells and preserved specimens. **Be able to differentiate these specimens from bivalves by external shell morphology and the pedicle coming from the ventral valve in some.**"
   ]
  },
  {
   "cell_type": "markdown",
   "metadata": {},
   "source": [
    "#### <font color=\"teal\">Drawing 8.1 – Brachiopod – Lingula  CONSULT Figures in Chapter 19</font>\n",
    "\n",
    "**Take a brachiopod specimen and draw the ventral valve** and label the **pedicle**.  Look closely at the valves and distinguish between dorsal and ventral.  It is important that you make this distinction correctly or you may dissect the animal upside down.  There are several subtle clues: 1. The ventral valve is slightly longer than the dorsal.  Examine the anterior end with the dissecting microscope to determine which is the longer.  This can also be detected by running the edge of a fingernail over the anterior margin of the valves.  If you move the fingernail from dorsal to ventral, it will catch on the slight overshoot of the ventral valve.  On the other hand, if you are moving the nail from ventral to dorsal it will not catch.  2. Both valves are arched outwards to accommodate the body but the ventral valve has a slightly higher arch than the dorsal.  The difference is best seen by looking directly (end-on) at the anterior end.  3. The first 3-4 centimeters of the pedicle arch very slightly dorsally.  These three differences are all small but the are consistent and reliable.  **Find and label dorsal, ventral, anterior, posterior, right,** and **left**.\n",
    "\n",
    "Remove the ventral valve and draw the **lophophore, mantle canals, gonads, intestines, digestive gland, esophagus, muscles to close and open valves (aductor muscles).**\n",
    "\n",
    "---"
   ]
  },
  {
   "cell_type": "markdown",
   "metadata": {},
   "source": [
    "## Phylum Ectoprocta\n",
    "Diversity: 4,500 extant species, Sessile in marine and freshwater haibitats\n",
    "\n",
    "*Important Characteristics:*\n",
    "**Colonial; epistome and protocoel absent in most species; lophophore circular or U- shaped; anus close to mouth;** colonies produced by asexual budding, zooids often polymorphic; zooids usually gonochoristic but both sexes often occur in a single colony.\n",
    "\n",
    "**Examine slides of ectoprocts labeled as “bryzoan” and be able to recognize them as such.** Notice lophophore tentacles.  These colonial animals are commonly called moss animals.  Each colony is made up of identical individuals derived through asexual reproduction from a single individual called an **ancestrula**. **See Figs 19.9-19.14**\n",
    "\n",
    "![ectoprocta](https://datasci.watzek.cloud/shared/bio212/images/lab8/[4]ectoprocta.jpeg)\n",
    "![ectoprocta](https://datasci.watzek.cloud/shared/bio212/images/lab8/[5]ectoprocta.png)\n",
    "\n",
    "Take a piece of Bugula from the jar, break off a couple of strands and place then on a depression slide.  Fill the depression slide with water and lay a cover slip over the top making a seal without bubbles.  Look at the Bagula colony under the compound microscope.  See the individual zooids.  See how many differentiated morphs you can find. \n",
    "\n",
    "See the slides representing Bryozoan diversity in the collection.  These include *Pectinella*, *Cristatella*, and *Bugula*.\n",
    "\n",
    "---"
   ]
  },
  {
   "cell_type": "markdown",
   "metadata": {},
   "source": [
    "# Welcome to the Dueterostomes\n",
    "\n",
    "### Echinodermata\n",
    "**Associated Readings: Pechenik, Ch. 20**\n",
    "\n",
    "This section includes dissections of starfish and sea urchins, drawings of star fish and sea urchin internal and external anatomy and of pluteus larvae, as well as looking at slides, preserving and living specimens.  The lab is organized into 3 work stations each corresponding to a different taxonomic group(s). This is yet another group that has beautiful and bizarre representatives.  Echinoderms possess some of the most bizarre structures we will see in this class.\n",
    "\n",
    "## Phylum Echinodermata\n",
    "Diversity: approx. 7,000 living species and 13,000 species known from fossil records (dating back at least to early Cambrian).<br>\n",
    "Strictly marine\n",
    "\n",
    "*Important characteristics:*\n",
    "**Calcarious exoskeleton composed of separated plates (ossicles)**; adults with **pentamerous radial symmetry, bilaterally symmetrical larvae; ceolomic water vascular system; deuterostomes** with **radia 1 cleavage; gut complete; no** excretory organs; diffuse, decentralized nervous system; **gonochoristic; direct or indirect development.**\n",
    "\n",
    "\n",
    "### Subclass Asteroidea\n",
    "Diversity: 1,500 extant species\n",
    "\n",
    "*Important Characteristics:*\n",
    "Body **stellate** with **5 or more arms; ambulacral grooves open; tube feet with internal ampullae, with or without suckers; aboral madreporite.**\n",
    "\n",
    "#### Pisaster- Sea Star\n",
    "**Habitat:** found from rocky tidal regions to deep in the ocean<br>\n",
    "**Diet:** bivalves & sea urchins.  They extrude their stomach and either completely engulf small bivalves or insert their stomach into a gap in the shell that they create by prying open the valves with their arms and tube feet.<br>\n",
    "**Reproduction:** gonochoristic.<br>"
   ]
  },
  {
   "cell_type": "markdown",
   "metadata": {},
   "source": [
    "#### <font color=\"teal\">Drawing  8.2- seastar, external anatomy.  Pechenik Fig 20.6 (page 506)</font>\n",
    "Draw and label the following structures: (to save time only draw details on 1 or 2 of the 5 rays.)\n",
    "**Aboral surface: spines, madreporite, rays (=arms), anus.  Oral surface: mouth, tube feet, ambulacral grooves.**\n",
    "\n",
    "**Notice:**  Madreporite, tube feet, pedicellaria, spines- look at these structures under the dissection scope.  The pedicellaria can be seen best on the oral side and if placed under water.\n",
    "\n",
    "![seastar-external](https://datasci.watzek.cloud/shared/bio212/images/lab8/[6]seastar-external.jpeg)"
   ]
  },
  {
   "cell_type": "markdown",
   "metadata": {},
   "source": [
    "#### <font color=\"teal\">Drawing 8.3- seastar, internal anatomy, cross section, Pcehenik Fig 20.7</font>\n",
    "*Sea star dissection:*<br>\n",
    "Cut a cross section of the tip of one of the arms of your sea star (cut off the tip of the arm).  From the cross section.\n",
    "\n",
    "**Draw and label the following as in the figure below:**\n",
    "**Hepatic ceca (=pyloric ceca), gonads, ambulacral ossicles, ampullae, tube feet**. Note that the gonads don’t extend the full length of the arm, so if your cut is towards the lateral end (closer to the tip then to the medial central area then you may not see gonada in your cross section.\n",
    "\n",
    "![seastar-internal-1](https://datasci.watzek.cloud/shared/bio212/images/lab8/[7]seastar-internal.jpeg)\n",
    "![seastar-internal-2](https://datasci.watzek.cloud/shared/bio212/images/lab8/[8]seastar-internal.jpeg)\n",
    "\n",
    "*Sea star dissection continued:*<br>\n",
    "From where you cut the cross section, make two superficial cuts through the dermis on either side of the central axis of the arm starting from where you cut the cross section and cutting toward the central disc.  Gently remove a section of the dermis on the aboral surface of the arm that is roughly one centimeter wide.  Cut around the perimeter of the central disc in a circle that does not include the madreporite.  Cut gently near the madreporite trying not to destroy the stone canal.  If the first arm doesn’t go well, try another!\n"
   ]
  },
  {
   "cell_type": "markdown",
   "metadata": {},
   "source": [
    "#### <font color=\"teal\">Drawing 8.4</font>\n",
    "**Draw and label the following:**<br>\n",
    "**pyloric stomach, hepatic cecea, gonad, ambulacral plates, ampullae.** If the **madreporite** and the **stone canal** (calcified tube extending internally from the madreporite) are still intact, draw and label them too. See your text, Fig 20.8 \n",
    "\n",
    "![seastar-internal-3](https://datasci.watzek.cloud/shared/bio212/images/lab8/[9]seastar-internal.jpeg)\n",
    "\n",
    "**Note:** The cardiac stomach is the portion that can be extruded for feeding on bivalves or sea urchins. The hepatic ceca are digestive glands. The ambulacral ossicles cover the radial canals.\n",
    "\n",
    "---"
   ]
  },
  {
   "cell_type": "markdown",
   "metadata": {},
   "source": [
    "### Class Echinoidea- sea urchins, sea biscuits, and sand dollars\n",
    "Diversity: >2,000 extant species described\n",
    "\n",
    "*Important characteristics:*\n",
    "**Body globose or discoidal**, often secondary bilateral; **skeletal plates fused as a solid test; with movable spines; ambulacral grooves closed.**\n",
    "\n",
    "**Either Purpuratus or Strongylocentrotus**\n",
    "#### <font color=\"teal\">Drawing 8.5 sea urchin, external anatomy – Dorsal surface Pechenik 20.14</font>\n",
    "Look at one of the sea urchin tests that has an intact central plate (please be very gentle).  \n",
    "![sea-urchin](https://datasci.watzek.cloud/shared/bio212/images/lab8/[10]sea-urchin.jpeg)\n",
    "\n",
    "**Draw the aboral surface and label the following structures as in the figure below**\n",
    "(To save time only draw details on a section of the animal):<br>\n",
    "**Periproct (with anus), genital plate, madreporite, gonopores (?), ambulacral plates, interambulacral plates.**\n",
    "\n",
    "#### Aristotle’s lantern\n",
    "This is a complex chewing organ found in Echinoids that is used for either grazing on algae or in some cases eating animal matter in a small manner.  It is a complex structure made of various hard plates and muscles which control retraction, protraction, and grasping of the five teeth.  Look at the Aristotle’s lantern in the collection.  Compare it to the figure to the left and your text **fig 20.16**.\n",
    "\n",
    "![aristotles-lantern](https://datasci.watzek.cloud/shared/bio212/images/lab8/[11]aristotles-lantern.jpeg)\n"
   ]
  },
  {
   "cell_type": "markdown",
   "metadata": {},
   "source": [
    "#### Sand dollar (Clypeasteroida)  \n",
    "*See Pechenik, Fig 20.15*\n",
    "\n",
    "#### <font color=\"teal\">Drawing 8.6 External</font>\n",
    "Look at the aboral surface of a dried sand dollar. **Draw and label the following as in the figure below:**<br> \n",
    "**Five ambulacra (petalloids), madreporite, gonopores.** Note where the opening in the test is for the anus on the oral surface.  The location varies among sand dollar species.\n",
    "\n",
    "![sand-dollar](https://datasci.watzek.cloud/shared/bio212/images/lab8/[12]sand-dollar.jpeg)\n",
    "\n",
    "**We do not have sand dollars for dissection** but see a sand dollar **Aristotle’s lantern**. It consists of 5 blocky pyramids which hold 5 slender teeth.  Note how much reduced it relative to the urchin lantern. \n",
    "\n",
    "---"
   ]
  },
  {
   "cell_type": "markdown",
   "metadata": {},
   "source": [
    "### Class Holothuroidea- sea cucumbers\n",
    "Diversity: approx. 1,150 extant species\n",
    "\n",
    "*Important Characteristics:*\n",
    "Body fleshy, elongate on oral-aboral axis; skeleton reduced to isolated ossicles; symmetry pentamerous; tube feed sometimes absent; madreporite internal; ambulacral grooves closed; circlet of feeding tentacles around the mouth.\n",
    "\n",
    "#### <font color=\"teal\">Drawing 8.7. Holothuroidea – sea cucumber- external.</font> \n",
    "Find the ventral surface (with larger podia). **Draw and label the following external structures of a sea cucumber:**<br>\n",
    "**Dendritic tentacles, ambulacra, interambulacra, podia.**\n",
    "\n",
    "![sea-cucumber-external](https://datasci.watzek.cloud/shared/bio212/images/lab8/[13]sea-cucumber.jpeg)\n",
    "\n",
    "#### Holothuroidea internal: (also Pechenik, Fig 20.20)\n",
    "\n",
    "Internal anatomy of a sea cucumber is very cool.  Since we have only two whole specimens, we will dissect one and set it out for display.  Be sure to look for the madreporite, the stomach & intestines, and the **respiratory tree**. Look for additions to this list on the chalkboard.\n",
    "\n",
    "![sea-cucumber-internal](https://datasci.watzek.cloud/shared/bio212/images/lab8/[14]sea-cucumber-internal.jpeg)\n",
    "\n",
    "---"
   ]
  },
  {
   "cell_type": "markdown",
   "metadata": {},
   "source": [
    "## Class Ophiuroidea – brittle stars and basket stars\n",
    "Diversity: >2,000 extant species described\n",
    "\n",
    "*Important Characteristics:*\n",
    "Body stellate with 5 unbranched or branched ambulacral arms; arms clearly distinct from central disk; ambulacral grooves closed; tube feet with internal ampullae but without suckers; anus lacking; madreporite on central disk.\n",
    "\n",
    "## Class Crinoidea- sea lilies and feather stars\n",
    "Diversity: approx 625 living species\n",
    "\n",
    "*Important Characteristics:*\n",
    "Ambulacra may branch more than once; arms with pinnules; no external madreporite.  \n",
    "\t\n",
    "**See the preserved specimens of Ophiuroidea and Crinoidea, and be able to identify them as such.**\n",
    "\n",
    "---"
   ]
  },
  {
   "cell_type": "markdown",
   "metadata": {},
   "source": [
    "# Part 3: Other Deuterostomes\n",
    "### Hemichordates (pg 529-535);  Chordates (pg 539-554)\n",
    "For our last true lab you will be introduced to 5 phyla.  This lab includes simple “dissections” looking at slides and preserved specimens.  There are **5 required drawings for this part of the lab**. The group includes descendents of our most recent invertebrate common ancestor.\n",
    "\n",
    "## Phylum Hemicordata- acorn worms\n",
    "Diversity: approx 85 species<br>\n",
    "Strictly marine, most are benthic burrowers\n",
    "\t\n",
    "*Important Characteristics:*\n",
    "**Protosome, mesosome, and metasome, each with coelomic compartments; ciliated, pharyngeal gill slits; glomerulus;** open circulatory system; **neurocord** – dorsal mesosomal, nerve cord, **gonochoristic** with indirect or mixed development. See Figs 21.1 & 21.4\n",
    "\n",
    "**Look at slides labeled as “sagital section of the anterior region” of an acorn worm and compare to the picture above.**"
   ]
  },
  {
   "cell_type": "markdown",
   "metadata": {},
   "source": [
    "#### <font color=\"teal\">Drawing 8.8</font>\n",
    "**Draw and label:**<br>\n",
    "**Proboscis, collar, glomerulus, and the pharynx and gills.** The glomerulus is an excretory organ unique to heimchordates. \n",
    "\n",
    "![acorn-worm](https://datasci.watzek.cloud/shared/bio212/images/lab8/[15]acorn-worm.jpeg)\n",
    "\n",
    "---"
   ]
  },
  {
   "cell_type": "markdown",
   "metadata": {},
   "source": [
    "## Phylum Chordata\n",
    "Diversity: >50,000 species\n",
    "\n",
    "*Important Characteristics:*\n",
    "**Coelomate; pharyngeal gill slits** at some stage of development; **dorsal notochord** at some developmental stage; **dorsal hollow nerve** cord; with an **endostyle** (Urochordate, Cephalocordate) or **thyroid gland** (Vertebrata); muscular, locomotor or postanal tail at some developmental stage; gut complete; ventral contractile dorsal blood vessel (or heart); hermaphroditic or gonochoristic.\n",
    "\n",
    "### Subphylum Cephalochordata- (=Lancelet, Amphioxis)\n",
    "Diversity: 23 species<br>\n",
    "Cosmopolitan in shallow marine and brackish waters; burrow in sand, swim for dispersal and mating.  \n",
    "\n",
    "*Important Characteristics:*\n",
    "Small (to 7 cm) fishlike creatures; **notochord; gill slits; dorsal nerve cord; postanal tail in adults;** no vertebrate column or cranial skeletal structure; gonads **numerous and serially arranged.**\n",
    "\n",
    "#### Branchiostoma\n",
    "**Habitat:** coastal waters of California, souther Atlantic coast of the U.S, China, Mediterranean Sea.  It burrows tail first into sand, leaving the anterior end exposed.<br>\n",
    "**Diet:** suspension feeders<br>\n",
    "**Reproductive:**  gonochoristic<br>"
   ]
  },
  {
   "cell_type": "markdown",
   "metadata": {},
   "source": [
    "#### <font color=\"teal\">Drawing 8.9- Branchiostoma (Lancelet), w.m. anatomy. See Fig 23.11, 23.12</font>\n",
    "Take a whole mount (w.m.) slide of a lancelet (amphioxus). \n",
    "**Draw and label the following as in the figures below:**<br> \n",
    "**pharynx (with gill slits), notochord, wheel organ, oral (buccal) cirri, myotomes.**\n",
    "\n",
    "![branchiostoma-1](https://datasci.watzek.cloud/shared/bio212/images/lab8/[16]branchiostoma.jpeg)\n",
    "\n",
    "Now take a preserved specimen and examine it under the dissecting microscope to help with identification of external structures that may have been hard to see in the slide (i.e. **oral hood**).  Feel free to dissect this specimen if you need/want to examine internal anatomy further.\n",
    "\n",
    "![branchiostoma-2](https://datasci.watzek.cloud/shared/bio212/images/lab8/[17]branchiostoma.jpeg)\n",
    "\n",
    "**Notice:**\n",
    "- *Myotomes* - blocks of muscles.\n",
    "- *Notochord* - persistent supporting structure in adults.\n",
    "- *Atriopore* - exit for water which was brought in while suspension feeding.\n",
    "- *Buccal cirri* - prevent large particles from entering the mouth.\n",
    "- *Wheel organ* - ciliated bands which drive food into the mouth.\n",
    "- *Hatschek’s pit* - mucus secreting structure.\n",
    "- *Endostyle* - binds iodine, homologous to our thyroid gland.  \n",
    "- *Epibranchial groove*- ciliated groove which moves food-carrying mucus toward the esophagus.\n",
    "- *Cecum* - may be to homologous to our liver and pancreas.\n",
    "- *Metapleural folds* - main region of gas exchange."
   ]
  },
  {
   "cell_type": "markdown",
   "metadata": {},
   "source": [
    "#### <font color=\"teal\">Drawing 8.10 Lancelet x.s. anatomy.</font>\n",
    "**Look at a cross section slide of a lancelet.**  Draw the specimen and label as in the figure above:<br>\n",
    "**pharynx, gill bar, gill slit, epidermis, endostyle.**\n",
    "\n",
    "---"
   ]
  },
  {
   "cell_type": "markdown",
   "metadata": {},
   "source": [
    "## Phylum Chordata\n",
    "\n",
    "### Subphylum Urochordata- sea squirt (Ascidian)\n",
    "Diversity: 3,000 species<br>\n",
    "Almost all marine suspension feeders\n",
    "\t\n",
    "*Important Characteristics:*\n",
    "Body covered by thick test (**tunic**); without bony tissue; **notochord restricted to tail and only found in larval stage;** gut U-shaped; pharynx (**brancial chamber**) with numerous **gill slits (stigmata)**; coelom not developed.\n",
    "\tLook at a preserved sea squirt specimen.  While looking through a dissecting scope, carefully tear away the tunic from the underlying structures using two pairs of forceps.  "
   ]
  },
  {
   "cell_type": "markdown",
   "metadata": {},
   "source": [
    "#### <font color=\"teal\">Drawing 8.11 Ascidian internal anatomy Corella</font>\n",
    "**Draw and label the following structures as in the figure below:<br>\n",
    "Base, gonads, gut, pharynx with gill slits, oral and atrial siphons. See Fig 23.1**"
   ]
  },
  {
   "cell_type": "markdown",
   "metadata": {},
   "source": [
    "#### <font color=\"teal\">Drawing 8.12 Ascidian tadpole larvae,  See Fig 23.4</font>\n",
    "Now examine a slide of a “tadpole” larvae and compare how similar this is to the amphioxus specimen you examined earlier. **Draw this larval form & label the notochord.**\n",
    "\n",
    "![tadpole](https://datasci.watzek.cloud/shared/bio212/images/lab8/[18]tadpole.jpeg)\n",
    "\n",
    "---"
   ]
  },
  {
   "cell_type": "markdown",
   "metadata": {},
   "source": [
    "### Subphylum Vertebrata\n",
    "Diversity: approx 47,000 species\n",
    "\t\n",
    "*Important Characteristics:*<br>\n",
    "**Vertebral column** forms axis of skeleton; most with paired appendages, a brain case and jaws.\n",
    "\n",
    "Now, considering the amazing amount of diversity we have examined in this class, go to a mirror, look at yourself and see yourself in your phylogenetic position of being a Chordate. If this is humbling, I hope you feel you’re a better vertebrate for the experience."
   ]
  }
 ],
 "metadata": {
  "kernelspec": {
   "display_name": "Python 3",
   "language": "python",
   "name": "python3"
  },
  "language_info": {
   "codemirror_mode": {
    "name": "ipython",
    "version": 3
   },
   "file_extension": ".py",
   "mimetype": "text/x-python",
   "name": "python",
   "nbconvert_exporter": "python",
   "pygments_lexer": "ipython3",
   "version": "3.6.8"
  }
 },
 "nbformat": 4,
 "nbformat_minor": 2
}
