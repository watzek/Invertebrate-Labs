{
 "cells": [
  {
   "cell_type": "markdown",
   "metadata": {},
   "source": [
    "# Lab 7\n",
    "## Phyla Mollusca and Annelida\n",
    "\n",
    "---\n",
    "\n",
    "### Associated Readings: Chapters 12 & 13\n",
    "Molluscs represent some of the most wonderful (and tasty) diversity you will see. Annelids, that some consider tasty, are also diverse with some beautiful morphologies.  They are both important ecologically and economically. Molluscs in particular represent a major phylum that has diversified by bizarre and varied modifications of the same basic body plan. Be sure to take time to see all the characteristic, and sometimes bizarre, structures in this group. Included in the lab are 4 dissections (!), slides and preserved specimens for demonstration. There are **8 required drawings for this lab** and a few other recommended sketches. Because there is so much to see in this lab, I will do snail and earthworm dissections that will be on display. You will simply have to take the time to sketch and label them. If you want to dissect your own, you are most welcome and the instructions are included. \n",
    "\n",
    "**The organisms you will see today fall within the following taxonomic groups:**\n",
    "\n",
    "- Phylum **Mollusca**\n",
    "\t- Class **Gastropoda**\n",
    "\t    - **“Prosobranchia”** (has been dismanteled as a taxon, but still used in molluscan lingo)\n",
    "            - Subclass **Eogastropoda** - limpets\t\n",
    "            - Subclass **Orthogastropoda** – all other gastropods\n",
    "                 - Superorder **Vestigastropoda** - abalones\n",
    "        - **Pulmonata** – land snails and slugs\n",
    "             - Family **Helicidae** *Helix* <font color=\"teal\">*(Drawings 1 & 2)*</font>\n",
    "\t    - **Opisthobranchia**\n",
    "             - Order **Nudibranchia** - nudibranchs\n",
    "\t- Class **Bivalvia**\n",
    "        - Subclass **Lamellibranchia**\n",
    "            - Superorder **Eulamellibranchia**\n",
    "                 - Family **Venerinae**\n",
    "                     - *Venus* - clams <font color=\"teal\">*(Drawings 3 & 4)*</font>\n",
    "                 - Family **Arcidae** – clams\n",
    "                 - Family **Mytellidae** - mussels\n",
    "\t- Class **Cephalopoda**\n",
    "        - Subclass **Nautiloidea** - pearly nautilus\n",
    "\t    - Subclass **Coleoidea** \n",
    "            - Order **Octopoda** - octopuses\n",
    "            - Order **Teuthoidea** - squids\n",
    "                - *Loligo* <font color=\"teal\">*(Drawings 5& 6)*</font>\n",
    "\t- Class **Polyplacophora** - Chiton \n",
    "\t- Class **Scaphopoda** – tusk shells\n",
    "- Phylum **Annelida**\n",
    "\t- Class **Clitellida**\n",
    "        - Subclass **Oligochaeta**\n",
    "            - Family **Lumbricidae**\n",
    "                - *Lumbricus* <font color=\"teal\">*(Drawings 7 & 8)*</font>\n",
    "        - Subclass **Hirudinida**\n",
    "\t- Class **Polychaeta**\n",
    "        - Family **Neriedae**\n",
    "            - *Nereis* \n",
    "- Phylum **Sipuncula**\n",
    "- Phylum **Echiura**\n",
    "\n",
    "### Objectives\n",
    "**After this lab you should:**\n",
    "1. Be able to identify specimens of the molluscan taxa listed above in bold.\n",
    "2. Be able to identify specimens representing the Gastropod subclasses Prosobranchia, Opisthobranchia, and Pulmonata.\n",
    "3. Be able to recognize trochophore and veliger larva.\n",
    "4. Be able to recognize a radula and explain its function.\n",
    "5. Know the external and internal anatomy of the land snail, Helix.\n",
    "6. Know the external and internal anatomy of the squid Loligo.\n",
    "7. Recognize a Nautilus shell, its chambers and siphuncle.\n",
    "8. Be able to recognize a clam glochidium larva.\n",
    "9. Be able to identify specimens of the Annelid classes Polychaeta, Oligochaeta, and Hirudinida.\n",
    "10.  Be able to identify specimens of the phyla Siphuncula \n",
    "11.  Know the internal and external anatomy of the earthworm Lumbricus.\n",
    "12.  Know the external anatomy of the polychaete Nereis.\n",
    "13.  Know the external anatomy of the leech Hirudinea       \n",
    "---"
   ]
  },
  {
   "cell_type": "markdown",
   "metadata": {},
   "source": [
    "## Phylum Mollusca\n",
    "Diversity:  8 Classes; ~100,000 described species and about 70,000 known fossil species\n",
    "\n",
    "*Important characteristics:*<br>\n",
    "**coelomate protostomes**; principal body cavity is **hemocoel**; body covered by **mantle**, which forms a **mantle cavity** in which are the **ctenidia** and anus; large muscular **foot; buccal region with radula; complete gut** which includes large digestive ceca; have **trochophore** larvae and usually **veliger** larvae."
   ]
  },
  {
   "cell_type": "markdown",
   "metadata": {},
   "source": [
    "### Class Gastropoda\n",
    "Diversity:  ~70,000 spp<br>\n",
    "marine, terrestrial, freshwater<br>\n",
    "\n",
    "*Important characteristics:*<br>\n",
    "visceral mass and mantle rotate 90-180o (**torsion**) (sometimes detorsion); with muscular creeping **foot**; head with **statocysts**, **eyes,** and 1-2 tentacles; most with complex **radula**; **ctenidia** sometimes lost and replaced with secondary gas exchange structures.\n",
    "\n",
    "#### <font color=\"teal\">Drawing 7.1- land snail, Helix, external anatomy</font>\n",
    "**Habitat:**  moist terrestrial habitats, damp leaf litter in wooded areas.<br>\n",
    "**Diet:**  feed on vegetation at night.<br>\n",
    "**Reproduction:**  simultaneous hermaphrodites.  Elaborate precopulatory behavior includes oral and tentacular stroking, intertwining bodies, and the piercing of each partners body wall with a calcareous dart.  The exact function of the dart is unknown, but it seems to have a stimulatory effect.  Mating can last up to eight hours and ends in a long immobility phase in which the partners retain contact with each other's foot except at the head-end.<br>\n",
    "\n",
    "*Draw and label:*<br>\n",
    "**Shell:  apex, aperture, whorl; head, foot, tentacles, eyes, genital opening, mouth (with three lips), pneumostome, anus. Figures 12.10 – 12.12.**<br>\n",
    "Notice the growth lines on the whorls.\n",
    "\n",
    "![snail-external](https://datasci.watzek.cloud/shared/bio212/images/lab7/[1]snail-external.jpeg)"
   ]
  },
  {
   "cell_type": "markdown",
   "metadata": {},
   "source": [
    "#### <font color=\"teal\">Drawing 7.2- land snail, Helix, internal anatomy.</font>\n",
    "*Dissection instructions:*<br>\n",
    "First, using fine-tipped forceps and beginning at the shell aperture, separate and remove the shell from the underlying soft viscera.  Using a razor blade, make a shallow cut starting just ventral (below) the genital aperture and proceeding posteriorly (back) across the foot.  Using fine-tipped forceps, **slowly and gently** enlarge the incision and pin back the external layer of the foot while making further cuts as needed in the external body wall to expose all internal organs.  Use your forceps to **gently** separate internal organs.\n",
    "\n",
    "*Draw and label the following as in the figures below (and Fig 12.15 of Pechenik):*<br>\n",
    "**mantle** (thin tissue later under shell), **collar** (thick around mouth of shell), **buccal mass** (mouth with **radula** inside), **crop, salivary gland, intestine, fused ganglia** (cerebral and pedal), **dart sac, mucous glands, oviduct, spermatheca, vas deferens, spermathecal duct,  penis, flagellum,** heart. \n",
    "\n",
    "![snail-internal](https://datasci.watzek.cloud/shared/bio212/images/lab7/[2]snail-internal.jpeg)\n",
    "\n",
    "**Notice:**\n",
    "- Dart sac - location of calcareous dart used in courtship behavior.\n",
    "- Mantle thickens into collar at shell aperture, the collar produces new shell growth.\n",
    "- If available, watch locomotion and feeding in live land snails or slugs.  \n",
    "\n",
    "*Be sure to be able to identify the three subclasses of gastropods:*\n",
    "- **Prosobranchia** - usually with a spirally coiled shell:  limpets, abalone, whelk, various shells, \tVermicularia, Conus.  \n",
    "- **Pulmonata** - land snails and slugs.\n",
    "- **Opisthobranchia** - sea slugs, sea hares."
   ]
  },
  {
   "cell_type": "markdown",
   "metadata": {},
   "source": [
    "#### *Larval stages – see Fig 12.47 Pechenik, pg 267*\n",
    "**Examine prepared slides of trochophore and veliger larva** and be able to identify them as such.<br>\n",
    "**Trochophore larva** are an early developmental larval stage found in mollusks, annelids and related phyla (e.g. echiurans and sipunculans).  \n",
    "**Veliger larva** are a more highly developed larval stage found only in molluscs such as gastropods and bivalve.  Notice the ciliated feeding and swimming organ: the velum.  \n",
    "\n",
    "**Examine prepared slides of a snail radula.**  The radula, found only in molluscs, is usually a ribbon of chitinous teeth.  Teeth can vary from simple to serrate or even pectinate.  the radula typically functions as a rasping organ, removing food from an object by scraping actions.  See figure below & Fig 12.4 pg 219. \n",
    "\n",
    "![radula](https://datasci.watzek.cloud/shared/bio212/images/lab7/[3]radula.jpeg)\n",
    "\n",
    "---"
   ]
  },
  {
   "cell_type": "markdown",
   "metadata": {},
   "source": [
    "## Class Bivalvia\n",
    "Diversity:  20,000 described species, primarily microphageous or suspension feeders\n",
    "\n",
    "*Important characteristics:*<br>\n",
    "**laterally compressed**; shell typically with **two hinged valves**; shell closed by **adductor muscles**; head without eyes or radula (eyes may be elsewhere on body); foot laterally compressed; large mantle cavity; posterior edges of mantle often fused to form inhalent and exhalent .\n",
    "\n",
    "#### Freshwater clam (Family Unionidae)\n",
    "**Habitat:**  streams, lakes, and rivers buried in mud on bottom.<br>\n",
    "**Diet:**  filter feeder on detritus and microscopic animals and plants.  The bivalves do not have a radula.  It is presumed that this character has been secondarily lost.<br>\n",
    "**Reproduction:**  gonochoristic.  Eggs are retained within the ctenidia and develop into glochidia that are then expelled and attach themselves to passing fish.   Look at prepared slides of glochidia larva and be able to recognize them as such on the exam.  Notice the hooks, attachment threads and adductor muscles.\n",
    "\n",
    "![glochidia-larva](https://datasci.watzek.cloud/shared/bio212/images/lab7/[4]glochidia-larva.jpeg)\n",
    "\n",
    "#### <font color=\"teal\">Drawing 7.3-  Venus bivalve external anatomy and orientation</font>\n",
    "*Orientation:*<br>\n",
    "hinge is dorsal (top), opening is ventral (bottom), Umbo is toward the anterior (front).  You should now be able to identify right and left valves by looking down at the dorsal surface while pointing the anterior end away from you.  \n",
    "\n",
    "*Draw and label:*<br>\n",
    "**hinge, umbo, growth lines, and anterior, posterior, dorsal and ventral positions and which valve is visible in your drawing (left or right)**.  The figure below should be helpful.\n",
    "\n",
    "![bivalve-shell-detail](https://datasci.watzek.cloud/shared/bio212/images/lab7/[5]bivalve-shell-detail.jpeg)\n"
   ]
  },
  {
   "cell_type": "markdown",
   "metadata": {},
   "source": [
    "#### <font color=\"teal\">Drawing 7.4 - bivalve internal anatomy</font>\n",
    "*Dissection instructions:*<br>\n",
    "Use dissecting scissors to reach between the specimen's valves and cut the adductor muscles as close to the left valve as possible.  Pry open the valves and remove the left valve and the left section of the mantle.  Hopefully, your specimen will look something like fig. 12.31-32 (pg 249-250)\n",
    "\n",
    "*Draw and label at least the following:*<br>\n",
    "**mantle (lines the shell), foot, adductor muscles, labial palps, ctenidial gills, inhalent and exhalent siphon, stomach, heart,** and the location of the anus and mouth. Try to identify additional parts with reference to figs 12.32 or the figure below.  \n",
    "\n",
    "![bivalve-dissection](https://datasci.watzek.cloud/shared/bio212/images/lab7/[6]bivalve-dissection.jpeg)\n",
    "\n",
    "---"
   ]
  },
  {
   "cell_type": "markdown",
   "metadata": {},
   "source": [
    "### Class Cephalopoda\n",
    "Diversity:  900 living species, marine- benthic or pelagic\n",
    "\n",
    "*Important characteristics:*\n",
    "Linearly chambered shell, usually reduced or lost, large body cavity; head with **large complex eyes** and circle of **large prehensile arms** or **tentacles around mouth**; **closed circulatory system**; with **radula** and **beak**; with **muscular funnel** (siphon) used for jet propulsion; \n",
    "\n",
    "#### *Loligo*\n",
    "**Habitat:**  world-wide in warm seas.  Usually found in groups, swimming or resting on the sea floor.<br>\n",
    "**Diet:**  shrimps, crabs, and small fishes.  Prey is grabbed with tentacles and torn apart with the beak.<br> \n",
    "**Movement:**  can move and maneuver swiftly using fins and jets of water from the siphon.<br>\n",
    "**Protection:**  can change color rapidly and spurt a cloud of ink when disturbed. <br>\n",
    "**Reproduction:**  gonochoristic.  Males transfer spermatophores with one of their arms to the mantle of the female.  Eggs are fertilized in the mantle cavity and covered with a sticky secretion from the nidamental glands and then attached to some support.  The eggs hatch directly into tiny squids.  The adults die soon after spawning.\n",
    "\n",
    "#### <font color=\"teal\">Drawing 7.5-  squid, Loligo,  external anatomy</font>\n",
    "Draw a view of the posterior surface of squid external anatomy as in the figures below\n",
    "\n",
    "*Draw and label:*<br>\n",
    "**mantel, arms, tentacles, eye, funnel (siphon), aquiferous pore, fin.** Be sure to look at the anterior side and see the **tip of the pen**.\n",
    "\n",
    "#### <font color=\"teal\">Drawing 7.6-  squid, Loligo,  internal anatomy</font>\n",
    "*Dissection instructions:*<br>\n",
    "Place the specimen with the posterior surface up (siphon side up). Cut the mantle longitudinally from just above the siphon and continue back toward the dorsal point. Also cut open the siphon.\n",
    "\n",
    "**Draw the squid internal anatomy as in the figures below and 12.38 Pechenik (pg 258-259) and label the following structures: siphon (funnel), valve, siphon retractor muscle, ctenidium, ink sac, anus, rectum, caecum, kidney, systemic heart, branchial heart, pen; if female, accesory nidamental gland, nidamental gland, ovary, eggs; if male, testis, spermatophoric sac, penis.**  Look at someone else's dissection of a squid of the opposite sex and be able to recognize the different sexual structures.\n",
    "\n",
    "![squid-external-internal](https://datasci.watzek.cloud/shared/bio212/images/lab7/[7]squid-ext-int.jpeg)\n",
    "![squid-intsext](https://datasci.watzek.cloud/shared/bio212/images/lab7/[8]squid-intsex-lab.jpeg)"
   ]
  },
  {
   "cell_type": "markdown",
   "metadata": {},
   "source": [
    "**Notice:**\n",
    "- **Siphon** has an internal valve to prevent water from entering the mantle cavity.  There are also one-way valves on either side of the siphon that keep water from leaving the mantle cavity except via the siphon.  Water enters the mantle cavity and passes over the ctenidia and then exits the mantle cavity through the siphon.  The anus and the ink sac empty into the siphon.  \n",
    "- **Retractor muscles** of the siphon control the position of the siphon and thus the direction of movement.\n",
    "- **Three hearts.**  One branchial heart at the base of each ctenidium and a systemic heart in between.  The former pump venous blood through the ctenidia to be oxygenated.  Squid have a closed circulatory system with the respiratory pigment hemocyanin.  Surrounding the heart is a pericardium.  \n",
    "- **Ink sac** is the silver organ which empties into the siphon.  If you disturb this organ, ink may be released.  \n",
    "\n",
    "**Supplementary dissections:**<br>\n",
    "Look at the beak and radula within in the mouth.  Also, dissect the eye by removing the outside layers and taking out the lens.  Notice how spherical it is and how it is formed in concentric spheres (the layers peel away like an onion).\n",
    "\n",
    "**Look at additional bivalve and cephalopod specimens in the teaching collection and be able to identify them as such.**\n",
    "\n",
    "----"
   ]
  },
  {
   "cell_type": "markdown",
   "metadata": {},
   "source": [
    "Station 4\n",
    "### Other Moluscan Classes\n",
    "Examine specimens and/or drawings of specimens from the Molluscan classes Polyplacophora, Scaphopoda ,and Monoplacophora (See text and reference manuals in lab).  Be able to identify them as such.  \n",
    "\n",
    "**On the Polyplacophora** (chitons) be able to recognize the following:<br> \n",
    "**plates (=valve), girdle, mouth, mantle, foot, ctenidia (gills).**  Drawing recommended but not required. \n",
    "\n",
    "![chiton](https://datasci.watzek.cloud/shared/bio212/images/lab7/[9]chiton.jpeg)\n",
    "\n",
    "---"
   ]
  },
  {
   "cell_type": "markdown",
   "metadata": {},
   "source": [
    "## Phylum Annelida\n",
    "Diversity:   Classes, approx 16,500 described species.<br>\n",
    "Aquatic, marine and terrestrial\n",
    "\n",
    "*Important characteristics:*<br>\n",
    "**segmentation**; **protostomes**; complete, regionally specialized digestive tract; **closed circulatory system**;  well developed nervous system; **paired epidermal setae bundles; prostomium and prostomium; gonochoristic or hermaphroditic; trochophore.**\n"
   ]
  },
  {
   "cell_type": "markdown",
   "metadata": {},
   "source": [
    "### Class Clitellata\n",
    "\n",
    "#### Subclass Hirudinoidea\n",
    "Diversity:  approx 500 described species<br>\n",
    "most freshwater or marine, few semiterrestrial; ectoparasitic, predaceous or scavaging\n",
    "\n",
    "*Important characteristics:*<br>\n",
    "**mouth with 3 jaws; coelom reduced to circulatory system - body cavity filled with parynchema; clitellum.**\n",
    "\n",
    "*Take a slide of a leech and compare it to the figures 13.31 (pg 323) in your Pechenik.  Notice the eyes, segmentation, posterior sucker, anterior sucker, proboscis, intestines, male atrium.*\n",
    "  \n",
    "#### Class Oligochaeta\n",
    "Diversity:  approx 3,500 described species<br>\n",
    "Terrestrial and freshwater, some marine; most are burrowers, some live in detritus and algae, some are tube dwellers and some are parasitic.<br>\n",
    "Range in size from 1mm to over 3 meters (in Australia of course)\n",
    "\n",
    "*Important Characteristics:*\n",
    "**few setea, no parapodia; well developed septa; calciferous glands;** simultaneous **hermaphrodites, clitellum**\n",
    "\n",
    "#### *Lumbricus*\n",
    "**Habitat:** burrows in moist soils.  Earthworms construct their burrows by swallowing and pushing the soil.<br>\n",
    "**Diet:** Feed on organic matter in the substratum as they move through it.  Also emerge from their burrows at night, and keeping their posterior end anchored in the burrow, grab anything they can eat (partially decomposed leaves) and drag it into their burrows.  When morning comes they block the entrance of their burrow by pulling in small leaves or other debris.<br>\n",
    "**Movement:**  Use a combination of circular and longitudinal muscles coupled with a compartmentalized hydrostatic skeleton.<br>\n",
    "**Protection:** Can detect slight vibrations in the substrate and retreat into their burrows.<br>\n",
    "**Reproduction:** Hermaphroditic.  Sperm travel externally along grooves formed by muscle contraction of the ventral body surface and are stored in the spermatheca.  After copulation the clitellum secretes a chitin-like cocoon into which the fertilized eggs are deposited.  The cocoon is shed off the anterior end of the worm and the open ends seal.<br>"
   ]
  },
  {
   "cell_type": "markdown",
   "metadata": {},
   "source": [
    "#### <font color=\"teal\">Drawing 7.7-  Lumbricus cross section slide. See Fig 13.3-4, pg 298; 13.37, pg 326 and the fig below</font>\n",
    "Get a side of a cross section of Lumbricus and draw and label the following using the diagram below as a reference:<br>\n",
    "**cuticle, epidermis, circular muscles, longitudinal muscles, dorsal blood vessel, typhlosole, ventral blood vessel, nerve cord,** subneural blood vessel, **nephridium, setae and setae muscle retractors** (may have to see a special slide for this), **intestine, coelom.**\n",
    "\n",
    "![earthworm](https://datasci.watzek.cloud/shared/bio212/images/lab7/[10]earthwormcs.jpeg)"
   ]
  },
  {
   "cell_type": "markdown",
   "metadata": {},
   "source": [
    "**Notice:**\n",
    "- **Layers of body wall** -  epidermis which secretes the cuticle, a layer of circular muscle cells and a layer of longitudinal muscle cells.\n",
    "- **Peritoneum**  lining the coelom (= true coelomate).\n",
    "- **Blood vessels** lie both dorsal and ventral.\n",
    "- **Chloragogenous cells** around the intestine are modified peritoneal cells that synthesize and store glycogen, lipids, store waste material, and play a role in de-amination of proteins.  - **Typhlosole** is a longitudinal fold in the dorsum of the intestine that projects into the lumen of the intestinal tract and serves to increase the surface area of the intestine for absorption.\n",
    "- **Nerve cord** is ventral.\n",
    "- **Setae (=chaeta) retractor muscles** retract the setae into their cavities.  \n",
    "\n",
    "Get a preserved specimen of ***Lumbricus***.  First observe its ventral external morphology (Fig below & Fig 13.27). **Be able to recognize the prostomium, mouth, clitellum, ventral setae, seminal groove.**\n",
    "\n",
    "![earthworm-external](https://datasci.watzek.cloud/shared/bio212/images/lab7/[11]earthworm-external.jpeg)\n",
    "![earthworm-segment](https://datasci.watzek.cloud/shared/bio212/images/lab7/[12]earthworm-segment.jpeg)\n",
    "\n",
    "*Dissection:*<br>\n",
    "Cut the specimen open longitudinally along its mid-dorsal line.  Use pins to hold the incision open.  Pin the intestinal tract to one side as in the diagram on the next page.  You may have to remove the chlorogogenous cells around the intestinal tract to see the dorsal blood vessels. "
   ]
  },
  {
   "cell_type": "markdown",
   "metadata": {},
   "source": [
    "#### <font color=\"teal\">Drawing 7.8- Lumbricus internal anatomy.</font>\n",
    "*Draw and label the following structures as in the figure below and fig. 13.35, 13.37, Pechenik:*<br>\n",
    "**Pharynx, cerebral ganglion, septa, esophagus, nephridia, pseudohearts, dorsal blood vessel, calciferous glands, crop, gizzard, intestine, seminal vesicles, seminal receptacles.**\n",
    "\n",
    "![lumbricus-internal](https://datasci.watzek.cloud/shared/bio212/images/lab7/[13]lumbricose-internal.jpeg)"
   ]
  },
  {
   "cell_type": "markdown",
   "metadata": {},
   "source": [
    "**Notice:**\n",
    "- **Typhlosole** is highly folded in first part of the intestine, not so folded in the middle portion, and absent in the rectum.  Why do you think this difference exists?\n",
    "- **Calciferous glands** remove excess calcium from food and precipitate it as calcite, which is insoluble and can be passed out through the gut.\n",
    "- **Crop** is expandable and used for food storage.\n",
    "- **Gizzard** is muscular and has a chitin-like interior lining and usually has small stones.  It grinds the food.\n",
    "- **Pseudohearts** surrounding the esophagus pump blood ventrally from the dorsal vessel to the ventral vessel.  \n",
    "- **Sperminal recepticlesstores** sperm after mating.\n",
    "- **Seminal vesicles** are where the spermatozoa mature.\n"
   ]
  },
  {
   "cell_type": "markdown",
   "metadata": {},
   "source": [
    "### Subclass Polychaeta\n",
    "Diversity:  >10,000 described species<br>\n",
    "mostly marine - burrowers, tube-dwellers, planktonic; some brackish, freshwater or parasitic\n",
    "\n",
    "*Important Characteristics:*<br>\n",
    "**well developed parapodia; sometimes incomplete septa; many setea;** often with eversible pharynx; **most gonochoristic.**\n",
    "\n",
    "*Nereis* external and internal anatomy<br>\n",
    "Get a preserved polychaete specimen and examine the head end. Recognize the following structures: **parapodium, setae, prostomium, peristomium, jaw, prostomial palp.** See Fig 13.3 (pg 298).\n",
    "\n",
    "![polychaeta](https://datasci.watzek.cloud/shared/bio212/images/lab7/[14]polychaeta.jpeg)\n",
    "\n",
    "Look at the diversity of specimens in the teaching collection in the annelid classes Polychaeta"
   ]
  },
  {
   "cell_type": "markdown",
   "metadata": {},
   "source": [
    "## Phylum Siphuncula (peanut worms)\n",
    "Diversity:  approx 250 described species in 17 genera<br>\n",
    "Exclusively marine, benthic; either burrow into sediments or live beneath stones; some live in abandoned shells or tubes of other animals.<br>\n",
    "**Note** – we find these at Hatfield Marine Sciences on the Oregon Coast and have representatives in the collection. \n",
    "\n",
    "*Important Characteristics:*<br>\n",
    "**Protostomes, unsegmented, complete U-shaped gut**, retractable anterior region called **introvert**; **ciliated urns** in coelomic cavity; indirect development with **trochophore larvae**; nervous system annelid-like but without segmentation; no circulatory system; mouth with tentacles or with nuchal organ."
   ]
  }
 ],
 "metadata": {
  "kernelspec": {
   "display_name": "Python 3",
   "language": "python",
   "name": "python3"
  },
  "language_info": {
   "codemirror_mode": {
    "name": "ipython",
    "version": 3
   },
   "file_extension": ".py",
   "mimetype": "text/x-python",
   "name": "python",
   "nbconvert_exporter": "python",
   "pygments_lexer": "ipython3",
   "version": "3.6.8"
  }
 },
 "nbformat": 4,
 "nbformat_minor": 2
}
