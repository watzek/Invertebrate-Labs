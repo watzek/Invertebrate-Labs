{
 "cells": [
  {
   "cell_type": "markdown",
   "metadata": {},
   "source": [
    "# Lab 6\n",
    "## Phylum Arthropoda III:  Class Crustacea \n",
    "\n",
    "---\n",
    "\n",
    "#### Associated Readings:  Pechenik et al., 374-392\n",
    "This lab includes a dissection of crayfish, drawings of crayfish internal and external anatomy and looking at slides and preserved specimens. The diversity in these animals represents diversification resulting from differential fusing of major body segments (tagmatization). This makes them excellent models for understanding how development influences the evolution of morphological diversity. There are **4 required drawings for this lab** and a few other recommended sketches.  Be sure to marvel at the culinary delicacies, and other cool creatures represented in this group.\n",
    "\n",
    "**The organisms you will see today fall within the following taxonomic groups:**\n",
    "- Phylum **Arthropoda**\n",
    "    - Class **Crustacea**\n",
    "\t\t- Subclass **Malacostraca**\n",
    "\t\t\t- Order **Decapoda** - shrimp, crab, lobster, crayfish\n",
    "\t\t\t- Order **Isopoda** - pill bugs, etc.\n",
    "\t\t\t- Order **Amphipoda** - beach hoppers, sand fleas\n",
    "\t\t\t- Order **Cumacea** - “queer blunders”\n",
    "\t\t\t- Order **Stomatopoda** - mantis shrimp\n",
    "\t- *The following 4 subclasses were formerly grouped as \"Maxillopoda\"*\n",
    "\t\t- Subclass **Cirripedia** - barnacles\n",
    "\t\t- Subclass **Ostracoda** - ostracods (slide & pond water)\n",
    "\t\t- Subclass **Copepoda** - copepods (slide & pond water) – Cyclops\n",
    "\t\t- Subclass **Branchiura** - Argulus (ectoparasites of fish) (slide)\n",
    "\t\t- Subclass **Branchiopoda**\n",
    "\t\t\t- Order **Notostraca** - tadpole shrimp\n",
    "\t\t\t- Order **Conchostraca** - clam shrimp\n",
    "\t\t\t- Order **Anostraca** - fairy shrimp\n",
    "\t\t\t- Order **Cladocera** - water fleas (slide)\n",
    "            \n",
    "### Objectives\n",
    "**After this lab you should:**\n",
    "1.  Be able to identify specimens representing the taxa above that are in bold print.\n",
    "2.  Know the internal and external anatomy of a crayfish, including mouth parts.\n",
    "3.  Be able to identify nauplius and zoea larvae \n",
    "4.  Be able to identify external anatomy of an isopod\n",
    "\n",
    "---"
   ]
  },
  {
   "cell_type": "markdown",
   "metadata": {},
   "source": [
    "## Phylum Arthropoda \n",
    "(See labs 4 & 5 handout for description.)\n",
    "\n",
    "### Class Crustacea\n",
    "Diversity:  > 42,000 described species<br>\n",
    "most widespread and diverse of marine inverts; marine, brackish, freshwater, and a few terrestrial.\n",
    "\n",
    "*Important Characteristics:*\n",
    "5-segmented head (**cephalon**) - from anterior to posterior:  presegmental **acron, antennular somite, antennal somite, maxillulary somite, maxillary somite**, with a long postcephalic trunk, usually divided into distinct **thorax** and **abdomen**; **2 pr. branched antennae**; **gnathobasic mandibles**; **carapace** usually present; **biramous appendages** (or secondarily uniramous); gas exchange by **gills**; excretion by nephridial structures; both **simple ocelli** and **complex** eyes (at least at some life stage); complex eyes often on **stalks**; gut with digestive ceca; with **naupilus larva**, development usually mixed or direct\n",
    "\n",
    "## Class Malacostraca\n",
    "Diversity: ~ 25,000 species described\n",
    "\n",
    "*Important Characteristics:*\n",
    "**Body 19-20 segments**, including **cephalon** (5 segments); **thorax** (8 segments) and **pleon** (= abdomen, 6 segments), plus telson; with or without caudal rami; 0-3 pairs of **maxillipeds**; thoracopods primitively biramous; **antennules** and **antennae** usually **biramous**; **pleon** with **5 pairs pleopods and 1 pr. uropods**; mostly **gonochoristic (female gonopores on 6th, and male gonopores on 8th segment)**. **Zoea** larvae.\n",
    "\n",
    "### Crayfish - Order Decapoda\n",
    "**Habitat:** crayfish of different species are found in freshwater streams and ponds around the world.<br>\n",
    "**Diet:** scavenger.<br>\n",
    "**Reproduction:** gonochoristic.  Notice the differences between the sexes in modifications of the third (female genital opening)  and fifth (male genital opening) walking legs and the first two swimmerets (male copulatory organs).  The female also has the opening of the seminal receptacle between the bases of the fourth walking legs.  The female uses the swimmerets to carry and aerate eggs during the breeding season.  "
   ]
  },
  {
   "cell_type": "markdown",
   "metadata": {},
   "source": [
    "#### <font color=\"teal\">Drawing 6.1 - Crayfish, external anatomy</font>\n",
    "*Draw and label (See Pechenik pg 375-377 figs 14.27 & 14.28):*<br>\n",
    "**carapace, antenna, antennule (antenna II), eye, rostrum, cheliped, walking legs 2-5, swimmerets (=pleopods), uropod, telson, anus,** male and **female genital openings**, female seminal receptacle, **male copulatory organs, cephalothorax, abdomen, tail**  \n",
    "\n",
    "![crayfish-external](https://datasci.watzek.cloud/shared/bio212/images/lab6/[1]crayfish-external.jpeg)\n",
    "\n",
    "**Be able to identify each of the following mouth parts (See Pechenik pg 375 and figure below):**<br>\n",
    "**Maxillipeds 1-3, maxilla 1-2, mandible.**  Start  with the third maxilliped and work your way inward.  The first  maxilla is highly reduced.  The mandibles hold food while the maxillipeds rip it apart. (Drawing not required, but recommended)\n",
    "\n",
    "![crayfish-mouth-parts](https://datasci.watzek.cloud/shared/bio212/images/lab6/[2]crayfish-mouthparts.jpeg)\n",
    "\n",
    "---"
   ]
  },
  {
   "cell_type": "markdown",
   "metadata": {},
   "source": [
    "### Crayfish Dissection\n",
    "Unfortunately, the internal structures in these specimens are very fragile.  So the less poking and prodding in your dissection the better.  We should look at the crayfish from two perspectives. Lets have some of you simply make a complete sagittal section.  This involves making a midline cut completely through the body from the anterior to the posterior.  This should give you two symmetrical halves.  A few of you should make a superficial cut through the exoskeleton from anterior to posterior, much like you did last week for the grasshopper. Draw either or both – whatever you need to see all the required structures. \n",
    "\n",
    "#### <font color=\"teal\">Drawing 6.2 - Crayfish, internal anatomy</font>\n",
    "*Draw and label as in the figure below:*<br>\n",
    "**Abdominal extensor and flexor muscles, cardiac stomach, mandibular muscles (see supplementary figure), ossicles** (teeth of gastric mill), **green or antennal gland** (excretory organ), **area of testis/ovary, heart in large pericardial sinus (easy to tear), intestine, gills** (look at this structure last, in the lateral-most region of the cephalothorax)\n",
    "\n",
    "![crayfish-internal-1](https://datasci.watzek.cloud/shared/bio212/images/lab6/[3]crayfish-internal.jpeg)\n",
    "![crayfish-internal-2](https://datasci.watzek.cloud/shared/bio212/images/lab6/[4]crayfish-internal.jpeg)\n",
    "![crayfish-internal-3](https://datasci.watzek.cloud/shared/bio212/images/lab6/[5]crayfish-internal.jpeg)\n",
    "http://www.infovisual.info/02/025_en.html\n"
   ]
  },
  {
   "cell_type": "markdown",
   "metadata": {},
   "source": [
    "#### <font color=\"teal\">Drawing 6.3 - Larval stages-Naupilus and Zoea  see above and Pechenik (pg 392)</font>\n",
    "*We don't have many slides so please draw quickly and pass them along*\n",
    "\n",
    "The **nauplius** larva is found in most crustaceans and is considered the most primitive type.  That is, the nauplius is the sole larval form found in several crustacean groups that also retain several other primitive characteristics (i.e. \"common\" does not necessarily equate \"primitive\").  In most  malacostracans, **zoea** larva develop after several molts of the nauplius.  The zoea can then give rise to a post larval form = **megalops**.  Other larval forms which are basically advanced forms of zoea larva exist in other crustaceans such as:  phyllosoma  and mysis (lobster), antizoea (stomatopods or mantis shrimp).  A special larval form exists in the barnacles called a cypris.  Notice how similar they are to an ostracod, as a matter of fact these slides were mislabeled as being ostracods!\n",
    "\n",
    "**(D)** nauplius<br>\n",
    "**(G)** zoea\n",
    "\n",
    "![nauplius-zoea](https://datasci.watzek.cloud/shared/bio212/images/lab6/[6]nauplius-zoea.jpeg)\n",
    "\n",
    "---"
   ]
  },
  {
   "cell_type": "markdown",
   "metadata": {},
   "source": [
    "## Subclass Malocostraca (cont.)\n",
    "\n",
    "### Order Isopoda\n",
    "Because isopods are common terrestrial organisms that you are particularly likely to encounter, AND they are very diverse in the ocean I would like for you to take a close look at some specimens.\n",
    "\n",
    "*Distinguishing features:*<br>\n",
    "Carapace absent; flattened dorsoventrally; 1st thoracomere fused with head; one pair maxillipeds; 7 pairs uniramous pereopods, 1st one sometimes subchelate, others usually simple; pleopods biramous and well developed(with pseudotracheae in terrestrial forms); telson fused with 1-6 pleonites, forming pleotelson; eyes usually sessile and compound.\n",
    "\n",
    "Look at a preserved isopod under a dissecting scope.<br>\n",
    "Draw and label the following with help from the figure below:<br>\n",
    "**(drawing 6.4) Cephalon, eye, 1st antenna (attenule), 2nd antenna (antenna), pereopods** (legs on the pereon), coxal plates, **Pereon, pleon, pleotelson, maxilliped, uropod**\n",
    "\n",
    "![isopod](https://datasci.watzek.cloud/shared/bio212/images/lab6/[7]isopod.jpeg)\n",
    "\n",
    "---"
   ]
  },
  {
   "cell_type": "markdown",
   "metadata": {},
   "source": [
    "## Subclass Branchiopoda\n",
    "This groups includes many orders that are small, common and live in freshwater. The most common is Daphnia, which is becoming a model organism. \n",
    "\n",
    "*Important Characteristics:*<br>\n",
    "Number of appendages and segments on thorax and abdomen (usually lacks appendages) vary; **telson** usually with **caudal rami**; maxillules and maxillae reduced or absent; no maxillipeds; typically with **paired compound** and **single simple eyes**.\n",
    "\n",
    "**See demonstration specimens and slides and be able to recognize representatives of Branchiopods**\n",
    "\n",
    "---"
   ]
  },
  {
   "cell_type": "markdown",
   "metadata": {},
   "source": [
    "## Subclasses formerly grouped as Maxillopoda\n",
    "*Including: Cirripedia (barnacles), Ostracoda (ostracods), Copopoda (Copopods)*\n",
    "\n",
    "Even though it is clear these are not a monophyletic group, they share some characteristics with respect to tagmatization:<br>\n",
    "\t**5 cephalic segments, 6 thoracic segments, 4 abdominal segments** and a **telson**; thoracomeres variously fused with telson; usually with **caudal rami**; thoracic segments with **biramous limbs**; abdominal segments lack appendages; **carapace** present or reduced. \n",
    "\n",
    "**See demonstration specimens and slides and be able to recognize representatives of the above Subclasses.**"
   ]
  }
 ],
 "metadata": {
  "kernelspec": {
   "display_name": "Python 3",
   "language": "python",
   "name": "python3"
  },
  "language_info": {
   "codemirror_mode": {
    "name": "ipython",
    "version": 3
   },
   "file_extension": ".py",
   "mimetype": "text/x-python",
   "name": "python",
   "nbconvert_exporter": "python",
   "pygments_lexer": "ipython3",
   "version": "3.6.8"
  }
 },
 "nbformat": 4,
 "nbformat_minor": 2
}
