{
 "cells": [
  {
   "cell_type": "markdown",
   "metadata": {},
   "source": [
    "# Lab 1\n",
    "\n",
    "## Local Invertebrates of Lewis & Clark Campus. (The local spineless wonders)\n",
    "---\n",
    "<span style=\"color:red\">September 2, 2016</span>\n",
    " \n",
    "*The goal of this lab is to introduce you to invertebrate diversity in general by doing a quick survey of local invertebrates* \n",
    "\n",
    "### *Objectives*\n",
    "**After this lab you should:**\n",
    "1. Be able to identify common invertebrate to the level of phylum.\n",
    "2. Be aware of the depth of animal diversity that surrounds us all of the time.\n",
    "3. Be introduced to the work of colleting and curating representatives of animal diversity. \n",
    "---"
   ]
  },
  {
   "cell_type": "markdown",
   "metadata": {},
   "source": [
    "## Process\n",
    " \n",
    "Begin the lab by making predictions about the number of invertebrate PHYLA you can collect in 30 minutes on the Lewis & Clark Campus.   \n",
    "***Write the number (no need for names) on the white board.***  "
   ]
  },
  {
   "cell_type": "markdown",
   "metadata": {},
   "source": [
    "### 1. GENERAL COLLECTING\n",
    "We will divide you into *groups of 3* and each group will spend *30 minutes* out collecting as many invertebrates you can get our hands on around Lewis & Clark College Campus. As you go, think about the *scale of habitat* that can define the range of different invertebrates. Flip over logs, scrape off moss, look under rocks, collect water from streams, ponds, etc. Take a piece of paper and a pencil and make a note of specifics of habitat where you collect. Be creative about where you will look for different organisms. \n",
    " \n",
    "**Tools:**\n",
    " - Vials\n",
    " - Jars \n",
    " - Nets for water sampling\n",
    " - Nets for sweeping *(we will demonstrate)*\n",
    " - Sifter & tray\n",
    " - A beat sheet \n",
    " \n",
    "### Habitats:\n",
    "**POND SCUM**\n",
    "Festering ponds are an excellent source of diversity. Find the most stagnant pools possible and collect samples of water and sludge. In the lab, place some water and pieces of plant debris in a watch glass and look at it under your dissecting scope.  Look for anything you can find.  Also make a depression slide of a drop of water with some flecks of sludge.  Look at this under a compound scope.  \n",
    "**The thick depression slides are too deep to use at 40X!  Be sure to start at 4x and the move to 10x. Stop there.**\n",
    "\n",
    "**LEAF LITTER**  \n",
    "Leaf litter is also a source of much exciting invertebrate diversity. Collect it, sift the big debris out (we have sifters) and spend at least 15 minutes looking through it. \n",
    "\n",
    "**MOSS**  \n",
    "One of my all-time favorite invertebrate Phyla (tardigrades) can be found locally in moss. Collect moss, put it in a small amount of water in a Petri dish, and let it sit for 30 minutes or so.  Then collect a sample of the water, with some small moss fragments in an eye-dropper and place it in a depression slide. \n",
    "\n",
    "**UNDER/IN FALLEN WOOD**  \n",
    "Invertebrates thrive in and under fallen wood. Roll over any logs you can, break them apart and see what you can find. Spend at least 5 minutes looking under a log – both in the spaces on the wood, and the space on the ground. \n",
    "\n",
    "***Be creative about other microhabitats.***  \n",
    "*Try to envision the appropriate scale of a microhabitat for an invertebrate. Remember some phyla, like the tardegrides, rotifers and gastrotrichs are microscopic.*\n",
    "\n",
    "---"
   ]
  },
  {
   "cell_type": "markdown",
   "metadata": {},
   "source": [
    "### 2. **SORT THE ANIMALS YOU COLLECTED TO PHYLUM AND ARTHROPODS TO ORDER.**  \n",
    "To do this you can look at them under the microscopes, dissecting and compound. Helpful tools for the compound scope are to drop samples in water onto a depression slide and see what you can see. Avoid bubbles if you use a cover slip. \n",
    "**These slides are very deep so DO NOT use the higher magnifications or you will crush the slides and damage the lenses!!**\n",
    "- Everyone is required to look at droplets of pond water, even if you did not collect it. \n",
    "- Most of the terrestrial animals will likely be large enough to identify to phylum without magnification, but looking at them under the dissecting scope will reveal beautiful detail. If you want to look at live arthropods in a vial under a scope I recommend that you transfer the animal (with care) from plastic vials to glass vials. \n",
    "- Announce to the class when you find one of the more rare phyla. It will quickly become obvious to you which ones those are.   \n",
    "- At the end of the class, release anything that is still alive back to where you found it. Rinse your collecting vials, watchglasses and slides. If you want to preserve something, 75% EtOH is the best choice for most things. There are screw-capped vials that Trevor can help you get. You must include a label with: your name, the date, where the specimen was collected (with detail). The label should be written on paper in pencil only.  \n",
    "\n",
    "---"
   ]
  },
  {
   "cell_type": "markdown",
   "metadata": {},
   "source": [
    "### 3. **COMPILE A SINGLE COMPILED LIST OF THE TAXA YOU FOUND TODAY.**\n",
    "Turn it in for me before you leave. I want only one composite list from the entire class so you have to work together. \n",
    "\n",
    "Please share things you see with the class. Keep a running list on the chalkboard of the organisms that the class has found.  On that list write the Phylum, if you know or can determine a finer scale taxonomic name write that too. Also write a common name if you know it. If you want to keep anything for permanent collection (we’ll talk more about this) then label it with specific details including: \n",
    "\n",
    "**Date**\n",
    "**Location** (both general and specific). For example, for specimens collected under a log from the forest at Lewis & Clark you should write: \n",
    "- **Multnomah Co. Oregon**\n",
    "- **Lewis & Clark College Forest**\n",
    "- **Habitat**\n",
    "- **Under log**\n",
    "**Your initials**"
   ]
  }
 ],
 "metadata": {
  "kernelspec": {
   "display_name": "Python 3",
   "language": "python",
   "name": "python3"
  },
  "language_info": {
   "codemirror_mode": {
    "name": "ipython",
    "version": 3
   },
   "file_extension": ".py",
   "mimetype": "text/x-python",
   "name": "python",
   "nbconvert_exporter": "python",
   "pygments_lexer": "ipython3",
   "version": "3.7.1"
  }
 },
 "nbformat": 4,
 "nbformat_minor": 2
}
