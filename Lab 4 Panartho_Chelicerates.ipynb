{
 "cells": [
  {
   "cell_type": "markdown",
   "metadata": {},
   "source": [
    "# Invertebrate Zoology Lab 4\n",
    "## Panarthropoda, Arthropod general & Chelicerates\n",
    "**<span style=\"color:red;\">21 May, 2019</span>**\n",
    "\n",
    "**Associated Readings: Pechenik Ch 14, 341-358, Ch 15**  \n",
    "\n",
    "This week’s lab introduces you to the “Panarthropoda”, a set of ecdysozoan phyla that includes the arthropods and closely related lineages. We’ll also begin our focus on Arthropoda with an introduction to the chelicerates – the subphylum that includes arachnids.  \n",
    "\n",
    "Included in the lab are drawings of external anatomy, looking at slides and preserved specimens, identifying spiders using a dichotomous key, and behavioral and anatomical demonstrations of extremely cool spiders and their relatives. There are 4 required drawings for this lab and a few other recommended sketches.  Take time to marvel at the diversity represented in this most remarkable group of organisms.  \n",
    "\n",
    "The organisms you will see today fall within the following taxonomic groups:  \n",
    "\n",
    "**Ecdysozoa**\n",
    "* **Panarthropoda**\n",
    "    * <span style=\"color:red\">Phylum</span> **Tardigrada** *(slides and live specimens)*\n",
    "    * <span style=\"color:red\">Phylum</span> **Onycophora** *(preserved specimens and slides)*\n",
    "    * <span style=\"color:red\">Phylum</span> **Arthropoda**\n",
    "        * <span style=\"color:green\">SubPhylum</span> **Trilobitomorpha**  *(extinct) – see fossils*\n",
    "        * <span style=\"color:green\">SubPhylum</span> **Chelicerata**\n",
    "            * <span style=\"color:blue\">Class</span> **Merostomata** - *Horse shoe crabs*\n",
    "            * <span style=\"color:blue\">Class</span> **Pycnogonida** - *Sea spiders*\n",
    "            * <span style=\"color:blue\">Class</span> **Arachnida**\n",
    "                * <span style=\"color:purple\">Order</span> **Araneae Spiders** *(list of Families in collection in lab)*\n",
    "                    * <span style=\"color:orange\">Superfamily</span> **Mygalomorphae** *(Orthognatha)*\n",
    "                    * <span style=\"color:orange\">Superfamily</span> **Araneomorphae** *(Labidognatha)*\n",
    "                * <span style=\"color:purple\">Order</span> **Scorpiones** --  \t*Scorpions*\n",
    "                * <span style=\"color:purple\">Order</span> **Opiliones**  --  \t*Harvestmen*\n",
    "                * <span style=\"color:purple\">Order</span> **Acari**      --   *Ticks, mites*\n",
    "                * <span style=\"color:purple\">Order</span> **Amblypygi**  --\t*Tailless whip scorpions*\n",
    "                * <span style=\"color:purple\">Order</span> **Solpugida**  -- \t*Sun spiders*\n",
    "                * <span style=\"color:purple\">Order</span> **Schizomida** --   *Schizomids*\n",
    "                * <span style=\"color:purple\">Order</span> **Pseudoscorpiones** --\t*Pseudoscorpions*\n",
    "                * <span style=\"color:purple\">Order</span> **Uropygi**    --  \t*Whip scorpions*\n",
    "             \n",
    "### *Objectives*\n",
    "**After this lab you should:**\n",
    "1.  Be able to identify specimens representing the taxa above that are in bold print.\n",
    "2.  Recognize the external and internal anatomy of an onycophoran (from cross section)\n",
    "3.  Be able to identify live tardigrades and arachnids\n",
    "4.  Be able to identify the following structures on any chelicerate:\n",
    "\tprosoma, opisthosoma, chelicerae, pedipalps, and 4 pair of walking legs.\n",
    "5.  Know the external anatomy of a spider and of a scorpion.\n",
    "6.  Understand how to use a dichotomous key to identify organisms."
   ]
  },
  {
   "cell_type": "markdown",
   "metadata": {},
   "source": [
    "## Phyla Onychophora and Tardigrada (included in Panarthropoda) (Ch 15)\n",
    "\n",
    "\n",
    "These are two small groups that historically had unclear evolutionary relationships to other invertebrates.\n",
    "Recent molecular phylogenetic analyses strongly supports these two phyla as being relatives of\n",
    "arthropods with onychophorans the sister group to arthropods, and Tardigrades sister to that group.\n",
    "Fossil evidence suggests that onychophorans have undergone very little phenotypic change and they\n",
    "are considered by some as &quot;living fossils&quot; and a &quot;missing link&quot; between annelids and arthropods."
   ]
  },
  {
   "cell_type": "markdown",
   "metadata": {},
   "source": [
    "# Phylum Onychophora\n",
    "\n",
    "Diversity: approx 100 species described  \n",
    "Humid habitats mostly in the tropics  \n",
    "  \n",
    "Important Characteristics:\n",
    "- Soft body, thin cuticle of not-articulating plates\n",
    "- Grow by molting\n",
    "- Little cephalization\n",
    "- 3 paired appendages on head \n",
    "    - **Fleshy antennae**, pair of **jaws**, pair of **oral papillae**\n",
    "- **Appendages unjointed**\n",
    "- **Paired segmental nephridia**\n",
    "- **Tracheae-spiracular**\n",
    "- **System reduced coelom**\n",
    "- **Slime glands**"
   ]
  },
  {
   "cell_type": "markdown",
   "metadata": {},
   "source": [
    "### <u>Drawing 4.1 Internal anatomy of Onycophora</u>  \n",
    "\n",
    "Look at a cross section of Peripatus. Draw this and label the **heart (dorsal vessel), circular muscles, longitudinal muscles, nerve cord, leg, gut, body cavity, cuticle**. You may or may not be able to see uterus or testes depending on the where the slice was taken to make the slide. Refer to figure 15.4 of Pechenik and the figures below.  \n",
    "\n",
    "![image1][1] \n",
    "![image2][2]\n",
    "\n",
    "**See the preserved specimen of Onychophora. We only have two – please be careful with them and return them promptly if you take them to the microscope.**  \n",
    "\n",
    "[1]: https://datasci.watzek.cloud/shared/bio212/images/lab4/image9.jpg \n",
    "[2]: https://datasci.watzek.cloud/shared/bio212/images/lab4/image2.jpg  "
   ]
  },
  {
   "cell_type": "markdown",
   "metadata": {},
   "source": [
    "# Phylum Tardigrada\n",
    "Diversity:  > 900 species described  \n",
    "Semiaquatic habitats - water films on mosses and plants, soil and forest litter  \n",
    "Important Characteristics:\n",
    "* **4 pairs of ventral legs, each ending in 1 to many (12) \"toes\" with adhesive pads or claws**\n",
    "* body covered by thin cuticle occasionally divided into plates\n",
    "* growth by **molting**\n",
    "* **coelom reduced**\n",
    "* no curculatory or gas exchange systems (they're very small- 0.1 to 0.5 mm)\n",
    "* nervous system metamerous\n",
    "* **gonochoristic**\n",
    "\n",
    "Tardigrades are called \"water bears\" due to the presence of \"claws\" on their eight legs and their slow, lumbering movements.  In times of low water availability they form dormant cysts called tuns.  In this state the tardigrades are dessicated and have an extremely low level of metabolism.   Tuns are very resistent to extreme temperature (+149°C - -272°C), chemicals, radiation and lack of oxygen. "
   ]
  },
  {
   "cell_type": "markdown",
   "metadata": {},
   "source": [
    "See Pg. 422, Fig 15.3 for additional images.   Can you believe how cute these are and that we’re surrounded by them. How lucky are we!\n",
    "\n",
    "![image3][3]\n",
    "![image4][4]\n",
    "\n",
    "\n",
    "See the slides of tardigrades in the teaching collection, and be able to identify them. Try to zoom in on their toes and see their eyes. The morphology is hard to see so I won’t have you draw them.  **Everyone is required to see live Tardigrades from moss collected from trees on campus. To do this:**  \n",
    "\n",
    "[3]: https://datasci.watzek.cloud/shared/bio212/images/lab4/image1.jpg\n",
    "[4]: https://datasci.watzek.cloud/shared/bio212/images/lab4/image4.jpg"
   ]
  },
  {
   "cell_type": "markdown",
   "metadata": {},
   "source": [
    "1. **Collect moss from a tree and immerse it in water in a watch glass.**\n",
    "2. **After about 30 minutes, place a droplet of water with a bit of moss onto a depression slide.**\n",
    "2. **Look at it under 10x magnification**\n",
    "3. **Look for transparent animals with legs that are bumbling over the moss.**  \n",
    "**(Note - you may also see nematodes and rotifers on the moss.)**\n",
    "\n",
    "\n",
    "\t"
   ]
  },
  {
   "cell_type": "markdown",
   "metadata": {},
   "source": [
    "# Phylum Arthropoda  \n",
    "Diversity:  immense - estimated 3-100 million insect species alone!  \n",
    "found in virtually every habitat imaginable.   \n",
    "  \n",
    "Important characteristics:  \n",
    "* **segmentation** with **regional body specialization and tagmosis**\n",
    "* **exoskeleton with thick scleratorized plates**\n",
    "* **jointed appendages**\n",
    "* **protostomes**\n",
    "* complete digestive tract\n",
    "* **open circulatory system**\n",
    "* well developed nervous system\n",
    "* **gonochoristic**\n",
    "* **growth by molting**"
   ]
  },
  {
   "cell_type": "markdown",
   "metadata": {},
   "source": [
    "## Subphylum Cheliceriformes\n",
    "Diversity:  over 80,000 described species  \n",
    "mostly terrestrial  \n",
    "  \n",
    "Important characteristics:  \n",
    "* body divided into two main regions, **prosoma (or cephalothorax)** and **opisthosoma (or abdomen)**\n",
    "* opisthosoma usually bears **telson**\n",
    "* prosoma is tagmosis of 6 segments, first pair of appendages is **chelicerae** followed by pedipalps then 4 pairs of walking legs\n",
    "* opisthosoma is composed of 12 segments\n",
    "* gas exchange by **book gills, book lungs, or tracheae**"
   ]
  },
  {
   "cell_type": "markdown",
   "metadata": {},
   "source": [
    "### Class Merostomata\n",
    "Diversity:  4 living species    \n",
    "  \n",
    "Important characteristics:  \n",
    "* Prosomal carapace\n",
    "* pedipalps similar to walking legs\n",
    "* opisthosoma divided as mesosoma and metasoma, or undivided\n",
    "* book gills\n",
    "* long, spiked telson"
   ]
  },
  {
   "cell_type": "markdown",
   "metadata": {},
   "source": [
    "**<u> Drawing 4.2\tDrawing of Meristomata Limulus external morphology (dorsal and ventral view) </u>**  \n",
    "\n",
    "* Draw and label the following structures as on the figures below.  \n",
    "**Prosoma, opisthosoma, median eyes, lateral compound eyes, telson, chelicera, pedipalp, gnathobase, carapace, chelate walking legs.** \n",
    "\n",
    "Note how they differ from the other chelicerates in the collection. (Fig 14.10)\n",
    "    \n",
    "![image5][5]\n",
    "\n",
    "[5]: https://datasci.watzek.cloud/shared/bio212/images/lab4/image3.jpg"
   ]
  },
  {
   "cell_type": "markdown",
   "metadata": {},
   "source": [
    "### Class Pycnogonida (taxonomic placement has been particularly problematic)\n",
    "Diversity:  approx. 1,000 species  \n",
    "Entirely marine, many live on other inverts (on bells of pelagic medusa, vestimentiferan worms....)  \n",
    "  \n",
    "Important characteristics:  \n",
    "* anterior **\"proboscis\"**\n",
    "* ovigers in males (used for brooding)\n",
    "* multiple gonopores on walking legs\n",
    "    \n",
    "**See figure 14.13 pg 358 in your text. We have two Pycnogonids in our collection.  Be sure to see them. Return it promptly if you take it to your microscope.  **"
   ]
  },
  {
   "cell_type": "markdown",
   "metadata": {},
   "source": [
    "### Class Arachnida\n",
    "Diversity:  over 65,000 described species  \n",
    "nearly all terrestrial  \n",
    "  \n",
    "Important Characteristics:\n",
    "* prosoma with **carapace**-like shield\n",
    "* without compound eyes\n",
    "* opisthosomal appendages absent or modified as **spinnerets** (spiders) or **pectins** (scorpions)\n",
    "* respiration by **book lungs, tracheae** or both."
   ]
  },
  {
   "cell_type": "markdown",
   "metadata": {},
   "source": [
    "#### <u>Order Scorpiones</u>\n",
    "  \n",
    "Important characteristics:\n",
    "* prosoma covered with **carapace**\n",
    "* opisthosoma divided into **mesosoma** (wide, 7 segments) and metasoma (narrow, 5 segments)\n",
    "* telson with poison gland\n",
    "* **pedipalps** large, chelate\n",
    "* first mesosomal segment with **gonopore** covered with genital operculum\n",
    "* second mesosomal segment with **pectins**\n",
    "* 3rd through 6th mesosomal segments with a pair of **book lungs**"
   ]
  },
  {
   "cell_type": "markdown",
   "metadata": {},
   "source": [
    "<u>**Drawing 4.3\tDrawing of scorpion external morphology (dorsal and ventral view)** </u>  \n",
    "Draw and label the following structures of a scorpion as in Pechenik pg 341, Fig 14.11 and the figure below:\n",
    "\t**prosoma, opisthosoma, mesasoma, metasoma, chelicerae, pedipalp, chela, genital operculum, pectins, spiracle (book lung), telson (stinger), walking legs, eyes.**\n",
    "\n",
    "![image6][6]  \n",
    "\n",
    "[6]: https://datasci.watzek.cloud/shared/bio212/images/lab4/image6.jpg"
   ]
  },
  {
   "cell_type": "markdown",
   "metadata": {},
   "source": [
    "#### Order Araneae\n",
    "Diversity:  over 42,000 described species  \n",
    "almost entirely terrestrial (one freshwater species)  \n",
    "  \n",
    "Important characteristics:\n",
    "* Prosoma undivided, covered with **carapace**, attached to opisthosoma with narrow **pedicel**\n",
    "* opisthosoma undivided and unsegmented (except mesothelae)\n",
    "* chelicerae modified as **fangs, usually with venom glands**\n",
    "* **book lungs** and/or **tracheae**\n",
    "* **spinnerets** and **silk producing glands**\n",
    "* usually **8 eyes.**"
   ]
  },
  {
   "cell_type": "markdown",
   "metadata": {},
   "source": [
    "<u>**Drawing 4.4\tExternal anatomy of spider (dorsal and ventral)**</u>\n",
    "Each of you will draw and label structures on a spider that represents a family that is different from those drawn by the rest of the class.  If your specimen does not have an ID label, ask me what it is.  Be sure to look for the unique genitalic structures on a spider of the opposite sex from the individual you have drawn.  Also look for all of the listed structures on at least one other type of spider.  Adult males are distinguished by their modified, swollen pedipalps.\n",
    "\n",
    "**Draw and label (lateral and ventral views) the following as in Pechenik pg 355 fig 14.12 and the figure below:  \n",
    "\tprosoma, opisthosoma, pedipalp, chelicerae, fang, pedicel, labium, maxilla (=endites), epigastric furrow, lung slits, spinnerets, sternum, eyes.  Be sure to see the modified pedipalps of males and the diversity of their forms, and female epigynum**\n",
    "\n",
    "![image7][7]  \n",
    "\n",
    "[7]: https://datasci.watzek.cloud/shared/bio212/images/lab4/image5.jpg"
   ]
  },
  {
   "cell_type": "markdown",
   "metadata": {},
   "source": [
    "**Other interesting things to see:**\n",
    "* **tarsal claws** at tip of most distal leg segment\n",
    "* **venom duct** at tip of fang\n",
    "* **cheliceral teeth** (Theridiidae and Thomisidae don't have these)\n",
    "**Look at the diversity of live and preserved demonstration specimens.**\n",
    "\n",
    "-----------------\n",
    " "
   ]
  },
  {
   "cell_type": "markdown",
   "metadata": {},
   "source": [
    "#### Other Arachnid Orders\n",
    "**Look at representatives of other Arachnid orders listed on the first page of this handout and be able to recognize each order.  **\n",
    "  \n",
    "**Required sketches:**\n",
    "* **Pseudoscorpion**  \n",
    "* **Amblypygid**  \n",
    "* **Uropygid**\n",
    "* **Opiliones**"
   ]
  },
  {
   "cell_type": "markdown",
   "metadata": {},
   "source": [
    "Use figure 14.11 pg 353 of your text as a guide in your identification of body parts.  Notice the different degrees of tagmosis (the fusing of body segments through evolutionary time).\n",
    "\n",
    "![image8][8]\n",
    "\n",
    "  \n",
    "<br/><br/>  \n",
    "\n",
    "[8]: https://datasci.watzek.cloud/shared/bio212/images/lab4/image8.jpg\n"
   ]
  },
  {
   "cell_type": "markdown",
   "metadata": {},
   "source": [
    " \n",
    "  \n",
    "**Class Amblypygi**  \n",
    "  \n",
    "![image10][9]\n",
    "  \n",
    "<br/><br/>\n",
    "\n",
    "[9]: https://datasci.watzek.cloud/shared/bio212/images/lab4/image7.jpg"
   ]
  },
  {
   "cell_type": "markdown",
   "metadata": {},
   "source": [
    "**Class Uropygi**  \n",
    "  \n",
    "![image11][10] \n",
    "  \n",
    "<br/><br/>  \n",
    " \n",
    " \n",
    "[10]: https://datasci.watzek.cloud/shared/bio212/images/lab4/image11.jpg"
   ]
  },
  {
   "cell_type": "markdown",
   "metadata": {},
   "source": [
    " \n",
    "**Class Opiliones**  \n",
    "  \n",
    "![image12][11]  \n",
    "\n",
    "[11]: https://datasci.watzek.cloud/shared/bio212/images/lab4/image10.png"
   ]
  },
  {
   "cell_type": "markdown",
   "metadata": {},
   "source": [
    "---------------------\n",
    "**SPIDER IDENTIFICATION – Introduction to using a dichotomous key**\n",
    "\n",
    "I will give each of your tables a spider that is unlabeled. You will work through a dichotomous key to identify the spider. \n",
    "\n",
    "[1]: https://datasci.watzek.cloud/shared/bio212/images/image9.jpg \n",
    "[2]: https://datasci.watzek.cloud/shared/bio212/images/image2.jpg  \n",
    "[3]: https://datasci.watzek.cloud/shared/bio212/images/image1.jpg\n",
    "[4]: https://datasci.watzek.cloud/shared/bio212/images/image4.jpg\n",
    "[5]: https://datasci.watzek.cloud/shared/bio212/images/image3.jpg\n",
    "[6]: https://datasci.watzek.cloud/shared/bio212/images/image6.jpg\n",
    "[7]: https://datasci.watzek.cloud/shared/bio212/images/image5.jpg\n",
    "[8]: https://datasci.watzek.cloud/shared/bio212/images/image8.jpg\n",
    "[9]: https://datasci.watzek.cloud/shared/bio212/images/image7.jpg\n",
    "[10]: https://datasci.watzek.cloud/shared/bio212/images/image11.jpg\n",
    "[11]: https://datasci.watzek.cloud/shared/bio212/images/image10.png"
   ]
  }
 ],
 "metadata": {
  "kernelspec": {
   "display_name": "Python 3",
   "language": "python",
   "name": "python3"
  },
  "language_info": {
   "codemirror_mode": {
    "name": "ipython",
    "version": 3
   },
   "file_extension": ".py",
   "mimetype": "text/x-python",
   "name": "python",
   "nbconvert_exporter": "python",
   "pygments_lexer": "ipython3",
   "version": "3.7.1"
  }
 },
 "nbformat": 4,
 "nbformat_minor": 2
}
