{
 "cells": [
  {
   "cell_type": "markdown",
   "metadata": {},
   "source": [
    "# Lab 5\n",
    "\n",
    "## Phylum Arthropoda :  Hexapods & Myriapods\n",
    "---\n",
    "\n",
    "#### Associated Readings:  Chapter 14, 341-350; 358-373\n",
    "In this lab you will learn morphological characteristics that define the most speciose group of organisms on earth – the insects. To do this you will identify key internal and external anatomical features of a grasshopper. You will also learn characteristics that define Myriapoda – millipedes & centipedes. In total there are **3 required drawings** for this lab and many other recommended sketches. Take time to marvel at the diversity represented in this remarkable group of organisms. \n",
    "\n",
    "**The organisms you will see fall within the following taxonomic groups:**\n",
    "- <font color=\"red\">Phylum</font> **Arthropoda**\n",
    "\t- <font color=\"green\">Subphylum</font> **Hexapoda**\n",
    "        - <font color=\"purple\">Order</font> **Collembola** - springtails\n",
    "        - <font color=\"blue\">Class</font> **Insecta**\n",
    "\t\t\t  - <font color=\"purple\">Order</font> **Hemiptera** – true bugs (aphids, leafhoppers, cicadeas)\n",
    "\t\t\t  - <font color=\"purple\">Order</font> **Coleoptera** - beetles\n",
    "\t\t\t- <font color=\"purple\">Order</font> **Hymenoptera** – bees, wasps, ants\n",
    "\t\t\t- <font color=\"purple\">Order</font> **Diptera** - flies\n",
    "\t\t\t- <font color=\"purple\">Order</font> **Lepidoptera** - butterflies\n",
    "\t\t\t- <font color=\"purple\">Order</font> **Odonata** – dragonflies, damselflies\n",
    "\t\t\t- <font color=\"purple\">Order</font> **Mantoidea** - mantids\n",
    "\t\t\t- <font color=\"purple\">Order</font> **Dermaptera** - earwigs\n",
    "\t\t\t- <font color=\"purple\">Order</font> **Siphonoptera** - fleas\n",
    "\t\t\t- <font color=\"purple\">Order</font> **Orthoptera** – Grasshoppers, crickets\n",
    "\t\t\t- <font color=\"purple\">Order</font> **Neuroptera** – lacewings, antlions, etc\n",
    "    - <font color=\"green\">Subphylum</font> **Myriapoda**\n",
    "\t\t- <font color=\"blue\">Class</font> **Chilopoda**\n",
    "\t\t- <font color=\"blue\">Class</font> **Diplopoda**\n",
    "\n",
    "### Objectives\n",
    "**After this lab you should:**\n",
    "1. Know the external anatomy of the grasshopper. \n",
    "2. Know the internal anatomy of the grasshopper.\n",
    "3. Be able to identify specimens representing the taxa above that are in bold print (all of them).\n",
    "4. Know characteristics that distinguish the orders of insects listed above.\n",
    "5. Recognize mouthpart structures of mosquitos, flies, butterflies, hemipterans, bees and roaches\n",
    "6. Recognize different types of insect antennae\n",
    "7. Recognize insect spiracles and cornea\n",
    "---"
   ]
  },
  {
   "cell_type": "markdown",
   "metadata": {},
   "source": [
    "## Phylum Arthropoda\n",
    "Diversity:  immense - estimated 20-50 million insect species alone!<br>\n",
    "Found in virtually every habitat imaginable.\n",
    "\n",
    "*Important characteristics:*<br>\n",
    "**segmentation** with **regional body specialization** and **tagmosis**; **exoskeleton with thick sclerotized plates**; **jointed appendages**; **protostomes**; complete digestive tract; **open circulatory system**;  well developed nervous system; **gonochoristic**; **growth by molting**\n",
    "\n",
    "---"
   ]
  },
  {
   "cell_type": "markdown",
   "metadata": {},
   "source": [
    "## Subphylum Hexapoda\n",
    "\n",
    "*Important Characteristics:*<br>\n",
    "**Body of three tagmata**, abdomen of 11 segments; **appendages uniramous** (unbranched); head appendages, from anterior to posterior, are **antennae, mandibles, maxillules** (1st maxillae), **maxillae** (2nd maxillae), 2nd maxillae may be fused into **labium**; gas exchange system of **tracheae** and **spiracles**; without a carapace; **gonochoristic**\n",
    "\n",
    "### Class Insecta\n",
    "Diversity: approx 1,000,000 spp described! Estimate 20-50 million undescribed<br>\n",
    "Found in nearly every terrestrial and freshwater habitat, but not in the open ocean.\n",
    "\n",
    "*Important Characteristics:*<br>\n",
    "**thorax** (3 segments) and **abdomen** (11 or fewer segments); head with **one pair of compound eyes**, and usually a **triad or pair of ocelli**; **one pair of antennae, mandibles, labium usually with palp**; **each thoraxic segment with one pair of legs**; **often wings on 2nd and 3rd thoracic segment**; gonopores open on posterior abdomen; paired **cerci** ofter present; **development direct** (ametabolous or hemimetabolous) or **indirect** (holometabolous)."
   ]
  },
  {
   "cell_type": "markdown",
   "metadata": {},
   "source": [
    "#### <font color=teal>Drawing 5.1 External anatomy of a grasshopper, \"The Mexican General\"</font>\n",
    "\n",
    "Label the following structures as seen in the figure below:<br>\n",
    "**head, thorax (pro, meso and metathorax), abdomen, compound eye, ocelli, antennae, tympanum, spiracles, tergites** and **sternites, ovipositor** (if female), **hindwing forewings, hind leg** with **femur, tibia** and **tarsus**\n",
    "\n",
    "![grasshopper-external](https://github.com/watzek/Invertebrate-Labs/blob/master/images/lab5/image001.jpg?raw=true)\n",
    "\n",
    "**Notice:**\n",
    "- Head is movable with compound eyes, 3 ocelli, and antennae.\n",
    "- Tympanum: organ of hearing on the first abdominal segment\n",
    "- Spiracles: external openings connected to tracheal tubes that are used for gas exchange. **Look at spiracles under dissecting scope – compare them to the prepared slide of a spiracle**\n",
    "- Sternites and tergites: hard chitinous plates on the dorsal and ventral surfaces respectively.\n",
    "- Forewing is leathery, hindwing is membranous – this is a characteristic of the order Orthoptera."
   ]
  },
  {
   "cell_type": "markdown",
   "metadata": {},
   "source": [
    "#### <font color=\"teal\">Drawing 5.2 Internal anatomy of a grasshopper, Romalea</font>\n",
    "\n",
    "*Dissection instructions:*<br>\n",
    "*Submerge the specimen in water.* Pin the specimen down at the base of the posterior pair of legs with the dorsal side up.  Make a **superficial**, longitudinal cut on the dorsal side from just posterior to the head to the posterior tip of the abdomen.  Next, make a pair of dorso-ventral incisions first, near the head and second, at the posterior tip of the abdomen so that you can lay out and pin down the body wall.  \n",
    "\t\n",
    "Label the following structures as in the figure below:<br>\n",
    "**Esophagus, tracheae, crop, gizzard, digestive (midgut) ceca, malphigian tubules, ovaries or testes, ventral nerve cord.**\n",
    "\n",
    "![grasshopper-internal-1](https://github.com/watzek/Invertebrate-Labs/blob/master/images/lab5/image005.jpg?raw=true)\n",
    "![grasshopper-internal-2](https://github.com/watzek/Invertebrate-Labs/blob/master/images/lab5/image007.jpg?raw=true)\n",
    "\n",
    "**Notice:**\n",
    "- Look for tracheae near the inside body wall near the spiracles and on the crop.  \n",
    "- The digestive tract is subdivided into functional regions.\n",
    "- Digestive ceca secrete digestive juices.\n",
    "- Malphigian tubules function in excretion. \n",
    "\n",
    "---"
   ]
  },
  {
   "cell_type": "markdown",
   "metadata": {},
   "source": [
    "## Wings and Mouthparts\n",
    "Among the best features to distinguish different groups of insects are the wings, mouthparts, and antennae.  To learn the mouthparts you will dissect the mouthparts of your grasshopper, and look at slides of mouthparts of other insects. **Remove the mouthparts from your grasshoppers and identify the parts as in the picture below (page 5).**  \n",
    "\n",
    "Look at mounted slides of wings, mouthparts, and antennae.  Also, try to see these features on the pinned, preserved specimens (be careful, they are fragile). I encourage you to make quick sketches.\n",
    "\n",
    "#### <font color=\"teal\">Drawing 5.3 Mouth-part diversity</font><br>\n",
    "Use the figures  below, your lecture notes, and figure 14.17 (pg 364) in your text to identify the following parts in bold: **labrum, mandible, maxilla & palp, labium & palp**\n",
    "\n",
    "![mouth-parts-1](https://github.com/watzek/Invertebrate-Labs/blob/master/images/lab5/image009.jpg?raw=true)\n",
    "\n",
    "- Orthoptera (grasshoppers) \"chewing\" - labrum, mandible, maxilla & palp, labium & palp\n",
    "- Blattaria  (roaches) “chewing\" -same as orthoptera \n",
    "<br><br>\n",
    "\n",
    "Now that you’re oriented to orthopteran mouthparts, look at slides representing the mouthparts of other insect orders. Mouthparts are very diverse in morphology and function, but this diversity is made up of various modifications of the same ancestral structures.  Make sure you are able to recognize and identify the listed mouthparts.  Look at mounted slides and at preserved specimens.\n",
    "\n",
    "**I recommend (but don’t require) that you draw and label the mouthparts of two of the following:**\n",
    "\t\t\n",
    "- Diptera (mosquito) “pierce and suck” – labrum, labium, labella, maxillary palp\n",
    "- Diptera (housefly) \"lapping\"  -  labium, mandible, maxilla, maxillary palp, labellum\n",
    "- Hemiptera, \"pierce and suck\"-  labium, labrium, stylets (maxillae and mandibles) (fig in your text)\n",
    "- Lepidoptera\t \"sucking\"     -  maxillae, labial palp\n",
    "- Hymenoptera (honeybee)  “sucking”   -  labrum, mandible, maxilla, labial palp, glossa\n",
    "\n",
    "![mouth-parts-2](https://github.com/watzek/Invertebrate-Labs/blob/master/images/lab5/image012.jpg?raw=true)\n",
    "![mouth-parts-3](https://github.com/watzek/Invertebrate-Labs/blob/master/images/lab5/image014.jpg?raw=true)\n",
    "\n",
    "#### Wing Diversity\n",
    "Note the following types of wings:\n",
    "- Orthoptera – leathery forewing & big hindwing that folds like a fan when not in use. \n",
    "- Hemiptera – wings fold flat over abdomen, basal portion of wings are thickened or leathery\n",
    "- Odonata- membranous, lack of flexibility; wings always held spread out from their bodies Hymenoptera – stiff membranous wings\n",
    "- Lepidoptera - large and scaly wings\n",
    "- Coleoptera - forewing hardened into an elytra\n",
    "- Diptera - hind wings reduced in to halters (little nubbins that function like a gyroscope)\n",
    "\n",
    "---"
   ]
  },
  {
   "cell_type": "markdown",
   "metadata": {},
   "source": [
    "## Antennae\n",
    "**See the demonstration slide with multiple types of antennae.  Try to recognize the antennae types from the picture below.** You will not be required to know the names of the different types, but recognizing them will help you distinguish insects. \n",
    "\n",
    "![antennae](https://github.com/watzek/Invertebrate-Labs/blob/master/images/lab5/image016.jpg?raw=true)\n",
    "\n",
    "---"
   ]
  },
  {
   "cell_type": "markdown",
   "metadata": {},
   "source": [
    "## Subphylum Myriapoda\n",
    "~13,000 species\n",
    "\n",
    "*Important characteristics:*\n",
    "**numerous postcephalic homonomous segments, not differentiated into thorax and abdomen, typically each with one pair of walking legs**; mandibles with articulating endite; without compound eyes; coxae of legs with single articulation with sternum; copulation indirect, **development direct. See pages 358-360 and 405 in your text.**\n",
    "\n",
    "**See demonstration specimens and be able to recognize representatives of the subclasses Diplopoda and Chilopoda. Also be able to recognize the following characteristics that are in bold.** I recommend a sketch of these things. \n",
    "\n",
    "- **Diplopoda (millipedes)** – with diplosegments (trunk segments fused into pairs) \n",
    "    - Each diplosegment with 2 pairs of walking legs, recognize the collum.  \n",
    "- **Chilopoda (centipedes) – 1 pair of walking legs per segment**\n",
    "\t- See the **Maxilliped** that is modified into sharp, biting jaws. Think about these when you are tempted to pick up centipedes in the field. "
   ]
  }
 ],
 "metadata": {
  "kernelspec": {
   "display_name": "Python 3",
   "language": "python",
   "name": "python3"
  },
  "language_info": {
   "codemirror_mode": {
    "name": "ipython",
    "version": 3
   },
   "file_extension": ".py",
   "mimetype": "text/x-python",
   "name": "python",
   "nbconvert_exporter": "python",
   "pygments_lexer": "ipython3",
   "version": "3.7.1"
  }
 },
 "nbformat": 4,
 "nbformat_minor": 2
}
